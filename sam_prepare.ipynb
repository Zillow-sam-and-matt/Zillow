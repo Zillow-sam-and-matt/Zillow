{
 "cells": [
  {
   "cell_type": "code",
   "execution_count": 50,
   "metadata": {},
   "outputs": [],
   "source": [
    "# preparing environment\n",
    "\n",
    "import pandas as pd\n",
    "import numpy as np\n",
    "import scipy.stats as stats\n",
    "import matplotlib.pyplot as plt\n",
    "import seaborn as sns\n",
    "\n",
    "\n",
    "from sklearn.model_selection import train_test_split\n",
    "from sklearn.metrics import classification_report, confusion_matrix\n",
    "from sklearn.linear_model import LogisticRegression\n",
    "from sklearn.tree import DecisionTreeClassifier\n",
    "from sklearn.tree import export_graphviz\n",
    "from sklearn.ensemble import RandomForestClassifier\n",
    "from sklearn.neighbors import KNeighborsClassifier\n",
    "from sklearn.metrics import f1_score"
   ]
  },
  {
   "cell_type": "code",
   "execution_count": 51,
   "metadata": {},
   "outputs": [],
   "source": [
    "# imports\n",
    "from env import host, user, password\n",
    "import pandas as pd\n",
    "import numpy as np\n",
    "import os\n",
    "\n",
    "# create url to connect to database\n",
    "def get_connection(db, user=user, host=host, password=password):\n",
    "    return f'mysql+pymysql://{user}:{password}@{host}/{db}'\n",
    "    \n",
    "# pass sql query to database retrieve data\n",
    "def new_zillow_data():\n",
    "    sql_query = \"SELECT * FROM properties_2017 JOIN predictions_2017 on predictions_2017.parcelid = properties_2017.parcelid WHERE unitcnt = 1 AND transactiondate BETWEEN '2017-05-01' AND '2017-06-30'\"\n",
    "    df = pd.read_sql(sql_query, get_connection('zillow'))\n",
    "    df.to_csv('zillow_df.csv')\n",
    "    return df"
   ]
  },
  {
   "cell_type": "code",
   "execution_count": 52,
   "metadata": {},
   "outputs": [],
   "source": [
    "df = new_zillow_data()"
   ]
  },
  {
   "cell_type": "markdown",
   "metadata": {},
   "source": [
    "## PREPARE\n",
    "\n",
    "Prepare, tidy, and clean the data so it can be explored and analyzed.\n",
    "***"
   ]
  },
  {
   "cell_type": "code",
   "execution_count": 30,
   "metadata": {
    "scrolled": false
   },
   "outputs": [
    {
     "name": "stdout",
     "output_type": "stream",
     "text": [
      "<class 'pandas.core.frame.DataFrame'>\n",
      "RangeIndex: 13309 entries, 0 to 13308\n",
      "Data columns (total 63 columns):\n",
      " #   Column                        Non-Null Count  Dtype  \n",
      "---  ------                        --------------  -----  \n",
      " 0   id                            13309 non-null  int64  \n",
      " 1   parcelid                      13309 non-null  int64  \n",
      " 2   airconditioningtypeid         6226 non-null   float64\n",
      " 3   architecturalstyletypeid      0 non-null      object \n",
      " 4   basementsqft                  0 non-null      object \n",
      " 5   bathroomcnt                   13309 non-null  float64\n",
      " 6   bedroomcnt                    13309 non-null  float64\n",
      " 7   buildingclasstypeid           2 non-null      float64\n",
      " 8   buildingqualitytypeid         13162 non-null  float64\n",
      " 9   calculatedbathnbr             13296 non-null  float64\n",
      " 10  decktypeid                    0 non-null      object \n",
      " 11  finishedfloor1squarefeet      0 non-null      object \n",
      " 12  calculatedfinishedsquarefeet  13308 non-null  float64\n",
      " 13  finishedsquarefeet12          13296 non-null  float64\n",
      " 14  finishedsquarefeet13          0 non-null      object \n",
      " 15  finishedsquarefeet15          11 non-null     float64\n",
      " 16  finishedsquarefeet50          0 non-null      object \n",
      " 17  finishedsquarefeet6           1 non-null      float64\n",
      " 18  fips                          13309 non-null  float64\n",
      " 19  fireplacecnt                  0 non-null      object \n",
      " 20  fullbathcnt                   13296 non-null  float64\n",
      " 21  garagecarcnt                  3 non-null      float64\n",
      " 22  garagetotalsqft               3 non-null      float64\n",
      " 23  hashottuborspa                0 non-null      object \n",
      " 24  heatingorsystemtypeid         13103 non-null  float64\n",
      " 25  latitude                      13309 non-null  float64\n",
      " 26  longitude                     13309 non-null  float64\n",
      " 27  lotsizesquarefeet             12976 non-null  float64\n",
      " 28  poolcnt                       3290 non-null   float64\n",
      " 29  poolsizesum                   0 non-null      object \n",
      " 30  pooltypeid10                  0 non-null      object \n",
      " 31  pooltypeid2                   0 non-null      object \n",
      " 32  pooltypeid7                   3287 non-null   float64\n",
      " 33  propertycountylandusecode     13309 non-null  object \n",
      " 34  propertylandusetypeid         13309 non-null  float64\n",
      " 35  propertyzoningdesc            13248 non-null  object \n",
      " 36  rawcensustractandblock        13309 non-null  float64\n",
      " 37  regionidcity                  13031 non-null  float64\n",
      " 38  regionidcounty                13309 non-null  float64\n",
      " 39  regionidneighborhood          6878 non-null   float64\n",
      " 40  regionidzip                   13306 non-null  float64\n",
      " 41  roomcnt                       13309 non-null  float64\n",
      " 42  storytypeid                   0 non-null      object \n",
      " 43  threequarterbathnbr           0 non-null      object \n",
      " 44  typeconstructiontypeid        0 non-null      object \n",
      " 45  unitcnt                       13309 non-null  float64\n",
      " 46  yardbuildingsqft17            0 non-null      object \n",
      " 47  yardbuildingsqft26            0 non-null      object \n",
      " 48  yearbuilt                     13303 non-null  float64\n",
      " 49  numberofstories               5 non-null      float64\n",
      " 50  fireplaceflag                 0 non-null      object \n",
      " 51  structuretaxvaluedollarcnt    13292 non-null  float64\n",
      " 52  taxvaluedollarcnt             13309 non-null  float64\n",
      " 53  assessmentyear                13309 non-null  float64\n",
      " 54  landtaxvaluedollarcnt         13309 non-null  float64\n",
      " 55  taxamount                     13308 non-null  float64\n",
      " 56  taxdelinquencyflag            555 non-null    object \n",
      " 57  taxdelinquencyyear            555 non-null    float64\n",
      " 58  censustractandblock           13275 non-null  float64\n",
      " 59  id                            13309 non-null  int64  \n",
      " 60  parcelid                      13309 non-null  int64  \n",
      " 61  logerror                      13309 non-null  float64\n",
      " 62  transactiondate               13309 non-null  object \n",
      "dtypes: float64(38), int64(4), object(21)\n",
      "memory usage: 6.4+ MB\n"
     ]
    }
   ],
   "source": [
    "# displaying column names and null value counts\n",
    "df.info()"
   ]
  },
  {
   "cell_type": "markdown",
   "metadata": {},
   "source": [
    "Dropping columns that meet any of the following criterion:\n",
    "* more than 2,000 null values \n",
    "* do not contain relevant data for predicting property value \n",
    "    - examples include irrelevant IDs, fips, etc.\n",
    "* taxamount, structuretaxvaluedollarcnt, landtaxvaluedollarcnt \n",
    "    - per project specifications we cannot use these columns\n",
    "        - \"for prediction purposes, we won't know tax amount until we know tax value\"\n",
    "        - confirmed by Data Science senior team member John Salas"
   ]
  },
  {
   "cell_type": "code",
   "execution_count": 34,
   "metadata": {
    "scrolled": true
   },
   "outputs": [
    {
     "data": {
      "text/plain": [
       "id                              13308\n",
       "parcelid                        13308\n",
       "bathroomcnt                        12\n",
       "bedroomcnt                         12\n",
       "buildingqualitytypeid              12\n",
       "calculatedfinishedsquarefeet     3079\n",
       "fips                                2\n",
       "heatingorsystemtypeid               3\n",
       "latitude                        12063\n",
       "longitude                       11258\n",
       "lotsizesquarefeet                8058\n",
       "propertycountylandusecode          31\n",
       "propertylandusetypeid               9\n",
       "propertyzoningdesc               1212\n",
       "rawcensustractandblock          10183\n",
       "regionidcity                      123\n",
       "regionidcounty                      2\n",
       "regionidzip                       277\n",
       "roomcnt                             1\n",
       "unitcnt                             1\n",
       "yearbuilt                         124\n",
       "structuretaxvaluedollarcnt      10329\n",
       "taxvaluedollarcnt               11074\n",
       "assessmentyear                      1\n",
       "landtaxvaluedollarcnt           10091\n",
       "taxamount                       13212\n",
       "censustractandblock             10177\n",
       "id                              13309\n",
       "parcelid                        13308\n",
       "logerror                        13213\n",
       "transactiondate                    56\n",
       "dtype: int64"
      ]
     },
     "execution_count": 34,
     "metadata": {},
     "output_type": "execute_result"
    }
   ],
   "source": [
    "# .nunique shows us how many unique values are held in each column\n",
    "df.nunique()"
   ]
  },
  {
   "cell_type": "markdown",
   "metadata": {},
   "source": [
    "Dropping columns that meet any of the following criterion:\n",
    "- categorical columns with more than 5 unique values \n",
    "    - it will be cumbersome to create a boolean value for each\n",
    "- columns with only 1 value as \n",
    "    - our model won't be able to make any meaningful distinctions with them"
   ]
  },
  {
   "cell_type": "markdown",
   "metadata": {},
   "source": [
    "While viewing data in SQL we noted several columns that appear to have identical data to one another. We will confirm if this is the case."
   ]
  },
  {
   "cell_type": "code",
   "execution_count": 55,
   "metadata": {},
   "outputs": [
    {
     "name": "stdout",
     "output_type": "stream",
     "text": [
      "Number of different values between finishedsquarefeet12 and calculatedfinishedsquarefeet: 13\n",
      "Number of different values between calculatedbathnbr and bathroomcnt: 13\n",
      "Number of different values between fullbathcnt and bathroomcnt: 13\n"
     ]
    }
   ],
   "source": [
    "# comparing each pair of columns we suspected are duplicates\n",
    "# the resulting variables tell us how many rows differ between each\n",
    "sqft_columns_diff = (df.finishedsquarefeet12 != df.calculatedfinishedsquarefeet).sum()\n",
    "bathroom_count_diff = (df.calculatedbathnbr != df.bathroomcnt).sum()\n",
    "bathroom_count_diff_alt = (df.fullbathcnt != df.bathroomcnt).sum()\n",
    "\n",
    "print(f'Number of different values between finishedsquarefeet12 and calculatedfinishedsquarefeet: {sqft_columns_diff}')\n",
    "print(f'Number of different values between calculatedbathnbr and bathroomcnt: {bathroom_count_diff}')\n",
    "print(f'Number of different values between fullbathcnt and bathroomcnt: {bathroom_count_diff_alt}')"
   ]
  },
  {
   "cell_type": "markdown",
   "metadata": {},
   "source": [
    "Dropping the following columns because with the exception of 13 rows, they are duplicates:\n",
    "- finishedsquarefeet12 (near-duplicate of calculatedfinishedsquarefeet)\n",
    "- calculatedbathnbr (near-duplicate of bathroomcnt)\n",
    "- bathroomcnt (near-duplicate of bathroomcnt)"
   ]
  },
  {
   "cell_type": "code",
   "execution_count": 57,
   "metadata": {},
   "outputs": [],
   "source": [
    "# Dropping columns with more than 2000 rows missing\n",
    "df = df.drop(columns=['airconditioningtypeid', 'architecturalstyletypeid', 'basementsqft','yardbuildingsqft26', 'buildingclasstypeid', 'decktypeid', 'finishedfloor1squarefeet', 'finishedsquarefeet13', 'finishedsquarefeet15', 'finishedsquarefeet50', 'finishedsquarefeet6', 'fireplacecnt', 'garagecarcnt', 'garagetotalsqft', 'hashottuborspa', 'poolcnt', 'poolsizesum', 'pooltypeid10', 'pooltypeid2', 'pooltypeid7', 'regionidneighborhood', 'storytypeid', 'threequarterbathnbr', 'typeconstructiontypeid', 'yardbuildingsqft17', 'numberofstories', 'fireplaceflag', 'taxdelinquencyflag', 'taxdelinquencyyear'], axis=1)\n",
    "\n",
    "# Dropping columns with high amount of duplicate values\n",
    "df = df.drop(columns=['finishedsquarefeet12', 'calculatedbathnbr', 'fullbathcnt'], axis=1)\n",
    "\n",
    "# Dropping columns with irrelevant data\n",
    "df = df.drop(columns=['id', 'fips', 'parcelid', 'latitude', 'longitude', 'rawcensustractandblock', 'censustractandblock', 'heatingorsystemtypeid', 'regionidcounty', 'logerror' ], axis=1)\n",
    "\n",
    "# Dropping categorical columns with more than 5 unique values\n",
    "df = df.drop(columns=['propertycountylandusecode', 'propertylandusetypeid','buildingqualitytypeid', 'propertyzoningdesc', 'regionidcity', 'regionidzip', 'yearbuilt', 'transactiondate' ], axis=1)\n",
    "\n",
    "# Dropping columns with only 1 unique value\n",
    "df = df.drop(columns=['roomcnt', 'unitcnt', 'assessmentyear'], axis=1)\n",
    "\n",
    "# Dropping columns that are prohibited from use\n",
    "df = df.drop(columns=['taxamount', 'structuretaxvaluedollarcnt', 'landtaxvaluedollarcnt'], axis=1)"
   ]
  },
  {
   "cell_type": "markdown",
   "metadata": {},
   "source": [
    "All columns that we specified for removal have been dropped. We'll now take another look at the data with .info for further changes needed."
   ]
  },
  {
   "cell_type": "code",
   "execution_count": 58,
   "metadata": {},
   "outputs": [
    {
     "name": "stdout",
     "output_type": "stream",
     "text": [
      "<class 'pandas.core.frame.DataFrame'>\n",
      "RangeIndex: 13309 entries, 0 to 13308\n",
      "Data columns (total 5 columns):\n",
      " #   Column                        Non-Null Count  Dtype  \n",
      "---  ------                        --------------  -----  \n",
      " 0   bathroomcnt                   13309 non-null  float64\n",
      " 1   bedroomcnt                    13309 non-null  float64\n",
      " 2   calculatedfinishedsquarefeet  13308 non-null  float64\n",
      " 3   lotsizesquarefeet             12976 non-null  float64\n",
      " 4   taxvaluedollarcnt             13309 non-null  float64\n",
      "dtypes: float64(5)\n",
      "memory usage: 520.0 KB\n"
     ]
    }
   ],
   "source": [
    "df.info()"
   ]
  },
  {
   "cell_type": "markdown",
   "metadata": {},
   "source": [
    "We will change the names of our remaining columns to make them easier to understand\n",
    "- Rename bathroomcnt to bathroom_count\n",
    "- Rename bedroomcnt to bedroom_count\n",
    "- Rename calculatedfinishedsquarefeet to unit_sq_feet\n",
    "- Rename lotsizesquarefeet to lot_size_sq_feet\n",
    "- Rename taxvaluedollarcnt to tax_dollar_value\n",
    "\n",
    "lotsizesquarefeet has 333 missing values\n",
    "- Out of 13309 rows, this is less than 3% of the total so we'll remove them along with the one null value row from calculatedfinishedsquarefeet"
   ]
  },
  {
   "cell_type": "code",
   "execution_count": 60,
   "metadata": {
    "scrolled": false
   },
   "outputs": [
    {
     "data": {
      "text/html": [
       "<div>\n",
       "<style scoped>\n",
       "    .dataframe tbody tr th:only-of-type {\n",
       "        vertical-align: middle;\n",
       "    }\n",
       "\n",
       "    .dataframe tbody tr th {\n",
       "        vertical-align: top;\n",
       "    }\n",
       "\n",
       "    .dataframe thead th {\n",
       "        text-align: right;\n",
       "    }\n",
       "</style>\n",
       "<table border=\"1\" class=\"dataframe\">\n",
       "  <thead>\n",
       "    <tr style=\"text-align: right;\">\n",
       "      <th></th>\n",
       "      <th>bathroomcnt</th>\n",
       "      <th>bedroomcnt</th>\n",
       "      <th>calculatedfinishedsquarefeet</th>\n",
       "      <th>lotsizesquarefeet</th>\n",
       "      <th>taxvaluedollarcnt</th>\n",
       "    </tr>\n",
       "  </thead>\n",
       "  <tbody>\n",
       "    <tr>\n",
       "      <th>0</th>\n",
       "      <td>2.0</td>\n",
       "      <td>3.0</td>\n",
       "      <td>1458.0</td>\n",
       "      <td>8284.0</td>\n",
       "      <td>136104.0</td>\n",
       "    </tr>\n",
       "    <tr>\n",
       "      <th>1</th>\n",
       "      <td>1.0</td>\n",
       "      <td>2.0</td>\n",
       "      <td>1421.0</td>\n",
       "      <td>6707.0</td>\n",
       "      <td>35606.0</td>\n",
       "    </tr>\n",
       "    <tr>\n",
       "      <th>2</th>\n",
       "      <td>2.0</td>\n",
       "      <td>3.0</td>\n",
       "      <td>1650.0</td>\n",
       "      <td>7300.0</td>\n",
       "      <td>614000.0</td>\n",
       "    </tr>\n",
       "    <tr>\n",
       "      <th>3</th>\n",
       "      <td>1.0</td>\n",
       "      <td>2.0</td>\n",
       "      <td>693.0</td>\n",
       "      <td>2908.0</td>\n",
       "      <td>274237.0</td>\n",
       "    </tr>\n",
       "    <tr>\n",
       "      <th>4</th>\n",
       "      <td>1.0</td>\n",
       "      <td>1.0</td>\n",
       "      <td>812.0</td>\n",
       "      <td>93226.0</td>\n",
       "      <td>245906.0</td>\n",
       "    </tr>\n",
       "    <tr>\n",
       "      <th>5</th>\n",
       "      <td>2.0</td>\n",
       "      <td>3.0</td>\n",
       "      <td>1108.0</td>\n",
       "      <td>6050.0</td>\n",
       "      <td>486866.0</td>\n",
       "    </tr>\n",
       "    <tr>\n",
       "      <th>6</th>\n",
       "      <td>2.0</td>\n",
       "      <td>3.0</td>\n",
       "      <td>1947.0</td>\n",
       "      <td>6404.0</td>\n",
       "      <td>388478.0</td>\n",
       "    </tr>\n",
       "    <tr>\n",
       "      <th>7</th>\n",
       "      <td>1.0</td>\n",
       "      <td>2.0</td>\n",
       "      <td>1061.0</td>\n",
       "      <td>4800.0</td>\n",
       "      <td>31839.0</td>\n",
       "    </tr>\n",
       "    <tr>\n",
       "      <th>8</th>\n",
       "      <td>2.0</td>\n",
       "      <td>3.0</td>\n",
       "      <td>1632.0</td>\n",
       "      <td>6040.0</td>\n",
       "      <td>499402.0</td>\n",
       "    </tr>\n",
       "    <tr>\n",
       "      <th>9</th>\n",
       "      <td>3.0</td>\n",
       "      <td>3.0</td>\n",
       "      <td>2768.0</td>\n",
       "      <td>34309.0</td>\n",
       "      <td>151340.0</td>\n",
       "    </tr>\n",
       "  </tbody>\n",
       "</table>\n",
       "</div>"
      ],
      "text/plain": [
       "   bathroomcnt  bedroomcnt  calculatedfinishedsquarefeet  lotsizesquarefeet  \\\n",
       "0          2.0         3.0                        1458.0             8284.0   \n",
       "1          1.0         2.0                        1421.0             6707.0   \n",
       "2          2.0         3.0                        1650.0             7300.0   \n",
       "3          1.0         2.0                         693.0             2908.0   \n",
       "4          1.0         1.0                         812.0            93226.0   \n",
       "5          2.0         3.0                        1108.0             6050.0   \n",
       "6          2.0         3.0                        1947.0             6404.0   \n",
       "7          1.0         2.0                        1061.0             4800.0   \n",
       "8          2.0         3.0                        1632.0             6040.0   \n",
       "9          3.0         3.0                        2768.0            34309.0   \n",
       "\n",
       "   taxvaluedollarcnt  \n",
       "0           136104.0  \n",
       "1            35606.0  \n",
       "2           614000.0  \n",
       "3           274237.0  \n",
       "4           245906.0  \n",
       "5           486866.0  \n",
       "6           388478.0  \n",
       "7            31839.0  \n",
       "8           499402.0  \n",
       "9           151340.0  "
      ]
     },
     "execution_count": 60,
     "metadata": {},
     "output_type": "execute_result"
    }
   ],
   "source": [
    "# using head to examine raw values of columns\n",
    "df.head(10)"
   ]
  },
  {
   "cell_type": "markdown",
   "metadata": {},
   "source": [
    "- No binary values\n",
    "- Various units of measurement (dollars, feet, bedrooms, bathrooms)\n",
    "- All columns contain numerical values\n",
    "\n",
    "For these reasons we will need to scale all of our columns except taxvaluedollarcnt (since it's our target variable and target variables should not be scaled)."
   ]
  },
  {
   "cell_type": "markdown",
   "metadata": {},
   "source": [
    "## Prepare Takeaways\n",
    "\n",
    "Removing columns that meet any of the following criterion:\n",
    "- More than 2,000 row missing\n",
    "- Duplicates or near-duplicates of other columns\n",
    "- Contain data that's irrelevant to our project\n",
    "- Categorical with more than 5 unique values\n",
    "- Contain only 1 unique column\n",
    "- Are prohibited from being used per project spefications\n",
    "\n",
    "Rename remaining columns for readability and understanding\n",
    "\n",
    "Drop rows with missing values since this accounts for less than 3% of all rows\n",
    "\n",
    "Scale every non-target variable column. (ie. everything except taxvaluedollarcnt)\n",
    "\n",
    "Split all data into train, validate and test samples\n",
    "\n",
    "All of these changes will be done via various functions within the prepare.py file deliverable"
   ]
  },
  {
   "cell_type": "code",
   "execution_count": null,
   "metadata": {},
   "outputs": [],
   "source": []
  }
 ],
 "metadata": {
  "kernelspec": {
   "display_name": "Python 3",
   "language": "python",
   "name": "python3"
  },
  "language_info": {
   "codemirror_mode": {
    "name": "ipython",
    "version": 3
   },
   "file_extension": ".py",
   "mimetype": "text/x-python",
   "name": "python",
   "nbconvert_exporter": "python",
   "pygments_lexer": "ipython3",
   "version": "3.7.6"
  }
 },
 "nbformat": 4,
 "nbformat_minor": 4
}
