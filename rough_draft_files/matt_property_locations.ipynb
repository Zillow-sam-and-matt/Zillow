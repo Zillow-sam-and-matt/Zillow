{
 "cells": [
  {
   "cell_type": "markdown",
   "metadata": {},
   "source": [
    "We'd also like to know the distribution of tax rates for each county.\n",
    "\n",
    "The data should have the tax amounts and tax value of the home, so it shouldn't be too hard to calculate. Please include in your report to us the distribution of tax rates for each county so that we can see how much they vary within the properties in the county and the rates the bulk of the properties sit around.\n",
    "\n",
    "Note that this is separate from the model you will build, because if you use tax amount in your model, you would be using a future data point to predict a future data point, and that is cheating! In other words, for prediction purposes, we won't know tax amount until we know tax value."
   ]
  },
  {
   "cell_type": "code",
   "execution_count": 1,
   "metadata": {},
   "outputs": [],
   "source": [
    "import pandas as pd\n",
    "import numpy as np\n",
    "import sklearn\n",
    "import pandas as pd\n",
    "import numpy as np\n",
    "import sklearn\n",
    "from sklearn.preprocessing import MinMaxScaler\n",
    "from scipy import stats\n",
    "import matplotlib.pyplot as plt\n",
    "import seaborn as sns\n",
    "from sklearn.model_selection import train_test_split\n",
    "\n",
    "from matt_property_locations import get_property_data\n"
   ]
  },
  {
   "cell_type": "code",
   "execution_count": 2,
   "metadata": {},
   "outputs": [
    {
     "name": "stderr",
     "output_type": "stream",
     "text": [
      "/usr/local/anaconda3/lib/python3.7/site-packages/numpy/lib/arraysetops.py:569: FutureWarning: elementwise comparison failed; returning scalar instead, but in the future will perform elementwise comparison\n",
      "  mask |= (ar1 == a)\n"
     ]
    }
   ],
   "source": [
    "df = get_property_data()"
   ]
  },
  {
   "cell_type": "code",
   "execution_count": null,
   "metadata": {},
   "outputs": [],
   "source": [
    "df.info()"
   ]
  },
  {
   "cell_type": "code",
   "execution_count": 21,
   "metadata": {},
   "outputs": [
    {
     "data": {
      "text/html": [
       "<div>\n",
       "<style scoped>\n",
       "    .dataframe tbody tr th:only-of-type {\n",
       "        vertical-align: middle;\n",
       "    }\n",
       "\n",
       "    .dataframe tbody tr th {\n",
       "        vertical-align: top;\n",
       "    }\n",
       "\n",
       "    .dataframe thead th {\n",
       "        text-align: right;\n",
       "    }\n",
       "</style>\n",
       "<table border=\"1\" class=\"dataframe\">\n",
       "  <thead>\n",
       "    <tr style=\"text-align: right;\">\n",
       "      <th></th>\n",
       "      <th>regionidzip</th>\n",
       "      <th>taxamount</th>\n",
       "      <th>taxvaluedollarcnt</th>\n",
       "      <th>tax_rate</th>\n",
       "    </tr>\n",
       "  </thead>\n",
       "  <tbody>\n",
       "    <tr>\n",
       "      <th>2</th>\n",
       "      <td>96095.0</td>\n",
       "      <td>20800.37</td>\n",
       "      <td>1434941.0</td>\n",
       "      <td>0.014496</td>\n",
       "    </tr>\n",
       "    <tr>\n",
       "      <th>3</th>\n",
       "      <td>96424.0</td>\n",
       "      <td>14557.57</td>\n",
       "      <td>1174475.0</td>\n",
       "      <td>0.012395</td>\n",
       "    </tr>\n",
       "    <tr>\n",
       "      <th>4</th>\n",
       "      <td>96450.0</td>\n",
       "      <td>5725.17</td>\n",
       "      <td>440101.0</td>\n",
       "      <td>0.013009</td>\n",
       "    </tr>\n",
       "    <tr>\n",
       "      <th>5</th>\n",
       "      <td>96446.0</td>\n",
       "      <td>3661.28</td>\n",
       "      <td>287634.0</td>\n",
       "      <td>0.012729</td>\n",
       "    </tr>\n",
       "    <tr>\n",
       "      <th>6</th>\n",
       "      <td>96049.0</td>\n",
       "      <td>6773.34</td>\n",
       "      <td>563029.0</td>\n",
       "      <td>0.012030</td>\n",
       "    </tr>\n",
       "  </tbody>\n",
       "</table>\n",
       "</div>"
      ],
      "text/plain": [
       "   regionidzip  taxamount  taxvaluedollarcnt  tax_rate\n",
       "2      96095.0   20800.37          1434941.0  0.014496\n",
       "3      96424.0   14557.57          1174475.0  0.012395\n",
       "4      96450.0    5725.17           440101.0  0.013009\n",
       "5      96446.0    3661.28           287634.0  0.012729\n",
       "6      96049.0    6773.34           563029.0  0.012030"
      ]
     },
     "execution_count": 21,
     "metadata": {},
     "output_type": "execute_result"
    }
   ],
   "source": [
    "df.head()"
   ]
  },
  {
   "cell_type": "code",
   "execution_count": null,
   "metadata": {},
   "outputs": [],
   "source": [
    "df.regionidzip.isnull().value_counts()"
   ]
  },
  {
   "cell_type": "code",
   "execution_count": null,
   "metadata": {},
   "outputs": [],
   "source": [
    "df.taxamount.isnull().value_counts()"
   ]
  },
  {
   "cell_type": "code",
   "execution_count": null,
   "metadata": {},
   "outputs": [],
   "source": [
    "df.taxvaluedollarcnt.isnull().value_counts()"
   ]
  },
  {
   "cell_type": "code",
   "execution_count": 3,
   "metadata": {},
   "outputs": [],
   "source": [
    "df.dropna(inplace=True)"
   ]
  },
  {
   "cell_type": "code",
   "execution_count": null,
   "metadata": {},
   "outputs": [],
   "source": [
    "df.regionidzip.isnull().value_counts()"
   ]
  },
  {
   "cell_type": "code",
   "execution_count": null,
   "metadata": {},
   "outputs": [],
   "source": [
    "df.taxamount.isnull().value_counts()"
   ]
  },
  {
   "cell_type": "code",
   "execution_count": null,
   "metadata": {},
   "outputs": [],
   "source": [
    "df.taxvaluedollarcnt.isnull().value_counts()"
   ]
  },
  {
   "cell_type": "code",
   "execution_count": null,
   "metadata": {},
   "outputs": [],
   "source": [
    "df.shape"
   ]
  },
  {
   "cell_type": "code",
   "execution_count": 4,
   "metadata": {},
   "outputs": [],
   "source": [
    "df['tax_rate'] = df.taxvaluedollarcnt / df.taxamount"
   ]
  },
  {
   "cell_type": "code",
   "execution_count": null,
   "metadata": {},
   "outputs": [],
   "source": [
    "df.head()"
   ]
  },
  {
   "cell_type": "code",
   "execution_count": 5,
   "metadata": {},
   "outputs": [],
   "source": [
    "df['tax_rate'] = df.taxamount / df.taxvaluedollarcnt"
   ]
  },
  {
   "cell_type": "code",
   "execution_count": null,
   "metadata": {},
   "outputs": [],
   "source": [
    "df.head()"
   ]
  },
  {
   "cell_type": "code",
   "execution_count": null,
   "metadata": {},
   "outputs": [],
   "source": [
    "(df.tax_rate > .04).value_counts()"
   ]
  },
  {
   "cell_type": "code",
   "execution_count": 6,
   "metadata": {},
   "outputs": [],
   "source": [
    "zip_tax = df.groupby('regionidzip').tax_rate.mean()"
   ]
  },
  {
   "cell_type": "code",
   "execution_count": 9,
   "metadata": {},
   "outputs": [
    {
     "data": {
      "text/plain": [
       "regionidzip\n",
       "95982.0    0.018348\n",
       "95983.0    0.016285\n",
       "95984.0    0.014242\n",
       "95985.0    0.012628\n",
       "95986.0    0.012320\n",
       "Name: tax_rate, dtype: float64"
      ]
     },
     "execution_count": 9,
     "metadata": {},
     "output_type": "execute_result"
    }
   ],
   "source": [
    "zip_tax.head()"
   ]
  },
  {
   "cell_type": "code",
   "execution_count": 7,
   "metadata": {},
   "outputs": [
    {
     "data": {
      "text/html": [
       "<div>\n",
       "<style scoped>\n",
       "    .dataframe tbody tr th:only-of-type {\n",
       "        vertical-align: middle;\n",
       "    }\n",
       "\n",
       "    .dataframe tbody tr th {\n",
       "        vertical-align: top;\n",
       "    }\n",
       "\n",
       "    .dataframe thead th {\n",
       "        text-align: right;\n",
       "    }\n",
       "</style>\n",
       "<table border=\"1\" class=\"dataframe\">\n",
       "  <thead>\n",
       "    <tr style=\"text-align: right;\">\n",
       "      <th></th>\n",
       "      <th>regionidzip</th>\n",
       "      <th>taxamount</th>\n",
       "      <th>taxvaluedollarcnt</th>\n",
       "      <th>tax_rate</th>\n",
       "    </tr>\n",
       "  </thead>\n",
       "  <tbody>\n",
       "    <tr>\n",
       "      <th>2</th>\n",
       "      <td>96095.0</td>\n",
       "      <td>20800.37</td>\n",
       "      <td>1434941.0</td>\n",
       "      <td>0.014496</td>\n",
       "    </tr>\n",
       "    <tr>\n",
       "      <th>3</th>\n",
       "      <td>96424.0</td>\n",
       "      <td>14557.57</td>\n",
       "      <td>1174475.0</td>\n",
       "      <td>0.012395</td>\n",
       "    </tr>\n",
       "    <tr>\n",
       "      <th>4</th>\n",
       "      <td>96450.0</td>\n",
       "      <td>5725.17</td>\n",
       "      <td>440101.0</td>\n",
       "      <td>0.013009</td>\n",
       "    </tr>\n",
       "    <tr>\n",
       "      <th>5</th>\n",
       "      <td>96446.0</td>\n",
       "      <td>3661.28</td>\n",
       "      <td>287634.0</td>\n",
       "      <td>0.012729</td>\n",
       "    </tr>\n",
       "    <tr>\n",
       "      <th>6</th>\n",
       "      <td>96049.0</td>\n",
       "      <td>6773.34</td>\n",
       "      <td>563029.0</td>\n",
       "      <td>0.012030</td>\n",
       "    </tr>\n",
       "  </tbody>\n",
       "</table>\n",
       "</div>"
      ],
      "text/plain": [
       "   regionidzip  taxamount  taxvaluedollarcnt  tax_rate\n",
       "2      96095.0   20800.37          1434941.0  0.014496\n",
       "3      96424.0   14557.57          1174475.0  0.012395\n",
       "4      96450.0    5725.17           440101.0  0.013009\n",
       "5      96446.0    3661.28           287634.0  0.012729\n",
       "6      96049.0    6773.34           563029.0  0.012030"
      ]
     },
     "execution_count": 7,
     "metadata": {},
     "output_type": "execute_result"
    }
   ],
   "source": [
    "df.head()"
   ]
  },
  {
   "cell_type": "code",
   "execution_count": null,
   "metadata": {},
   "outputs": [],
   "source": [
    "#In [41]: result = pd.merge(left, right, on='key')\n"
   ]
  },
  {
   "cell_type": "code",
   "execution_count": 10,
   "metadata": {},
   "outputs": [],
   "source": [
    "result = pd.merge(df, zip_tax, on='regionidzip')"
   ]
  },
  {
   "cell_type": "code",
   "execution_count": 11,
   "metadata": {},
   "outputs": [
    {
     "data": {
      "text/html": [
       "<div>\n",
       "<style scoped>\n",
       "    .dataframe tbody tr th:only-of-type {\n",
       "        vertical-align: middle;\n",
       "    }\n",
       "\n",
       "    .dataframe tbody tr th {\n",
       "        vertical-align: top;\n",
       "    }\n",
       "\n",
       "    .dataframe thead th {\n",
       "        text-align: right;\n",
       "    }\n",
       "</style>\n",
       "<table border=\"1\" class=\"dataframe\">\n",
       "  <thead>\n",
       "    <tr style=\"text-align: right;\">\n",
       "      <th></th>\n",
       "      <th>regionidzip</th>\n",
       "      <th>taxamount</th>\n",
       "      <th>taxvaluedollarcnt</th>\n",
       "      <th>tax_rate_x</th>\n",
       "      <th>tax_rate_y</th>\n",
       "    </tr>\n",
       "  </thead>\n",
       "  <tbody>\n",
       "    <tr>\n",
       "      <th>0</th>\n",
       "      <td>96095.0</td>\n",
       "      <td>20800.37</td>\n",
       "      <td>1434941.0</td>\n",
       "      <td>0.014496</td>\n",
       "      <td>0.013256</td>\n",
       "    </tr>\n",
       "    <tr>\n",
       "      <th>1</th>\n",
       "      <td>96095.0</td>\n",
       "      <td>5554.09</td>\n",
       "      <td>465989.0</td>\n",
       "      <td>0.011919</td>\n",
       "      <td>0.013256</td>\n",
       "    </tr>\n",
       "    <tr>\n",
       "      <th>2</th>\n",
       "      <td>96095.0</td>\n",
       "      <td>1727.05</td>\n",
       "      <td>121376.0</td>\n",
       "      <td>0.014229</td>\n",
       "      <td>0.013256</td>\n",
       "    </tr>\n",
       "    <tr>\n",
       "      <th>3</th>\n",
       "      <td>96095.0</td>\n",
       "      <td>4964.27</td>\n",
       "      <td>422000.0</td>\n",
       "      <td>0.011764</td>\n",
       "      <td>0.013256</td>\n",
       "    </tr>\n",
       "    <tr>\n",
       "      <th>4</th>\n",
       "      <td>96095.0</td>\n",
       "      <td>3954.09</td>\n",
       "      <td>329244.0</td>\n",
       "      <td>0.012010</td>\n",
       "      <td>0.013256</td>\n",
       "    </tr>\n",
       "  </tbody>\n",
       "</table>\n",
       "</div>"
      ],
      "text/plain": [
       "   regionidzip  taxamount  taxvaluedollarcnt  tax_rate_x  tax_rate_y\n",
       "0      96095.0   20800.37          1434941.0    0.014496    0.013256\n",
       "1      96095.0    5554.09           465989.0    0.011919    0.013256\n",
       "2      96095.0    1727.05           121376.0    0.014229    0.013256\n",
       "3      96095.0    4964.27           422000.0    0.011764    0.013256\n",
       "4      96095.0    3954.09           329244.0    0.012010    0.013256"
      ]
     },
     "execution_count": 11,
     "metadata": {},
     "output_type": "execute_result"
    }
   ],
   "source": [
    "result.head()"
   ]
  },
  {
   "cell_type": "code",
   "execution_count": 15,
   "metadata": {},
   "outputs": [],
   "source": [
    "result = result.rename(columns={'tax_rate_x': 'property_tax_rate', 'tax_rate_y': 'county_tax_rate'})"
   ]
  },
  {
   "cell_type": "code",
   "execution_count": 16,
   "metadata": {},
   "outputs": [
    {
     "data": {
      "text/html": [
       "<div>\n",
       "<style scoped>\n",
       "    .dataframe tbody tr th:only-of-type {\n",
       "        vertical-align: middle;\n",
       "    }\n",
       "\n",
       "    .dataframe tbody tr th {\n",
       "        vertical-align: top;\n",
       "    }\n",
       "\n",
       "    .dataframe thead th {\n",
       "        text-align: right;\n",
       "    }\n",
       "</style>\n",
       "<table border=\"1\" class=\"dataframe\">\n",
       "  <thead>\n",
       "    <tr style=\"text-align: right;\">\n",
       "      <th></th>\n",
       "      <th>regionidzip</th>\n",
       "      <th>taxamount</th>\n",
       "      <th>taxvaluedollarcnt</th>\n",
       "      <th>property_tax_rate</th>\n",
       "      <th>county_tax_rate</th>\n",
       "    </tr>\n",
       "  </thead>\n",
       "  <tbody>\n",
       "    <tr>\n",
       "      <th>0</th>\n",
       "      <td>96095.0</td>\n",
       "      <td>20800.37</td>\n",
       "      <td>1434941.0</td>\n",
       "      <td>0.014496</td>\n",
       "      <td>0.013256</td>\n",
       "    </tr>\n",
       "    <tr>\n",
       "      <th>1</th>\n",
       "      <td>96095.0</td>\n",
       "      <td>5554.09</td>\n",
       "      <td>465989.0</td>\n",
       "      <td>0.011919</td>\n",
       "      <td>0.013256</td>\n",
       "    </tr>\n",
       "    <tr>\n",
       "      <th>2</th>\n",
       "      <td>96095.0</td>\n",
       "      <td>1727.05</td>\n",
       "      <td>121376.0</td>\n",
       "      <td>0.014229</td>\n",
       "      <td>0.013256</td>\n",
       "    </tr>\n",
       "    <tr>\n",
       "      <th>3</th>\n",
       "      <td>96095.0</td>\n",
       "      <td>4964.27</td>\n",
       "      <td>422000.0</td>\n",
       "      <td>0.011764</td>\n",
       "      <td>0.013256</td>\n",
       "    </tr>\n",
       "    <tr>\n",
       "      <th>4</th>\n",
       "      <td>96095.0</td>\n",
       "      <td>3954.09</td>\n",
       "      <td>329244.0</td>\n",
       "      <td>0.012010</td>\n",
       "      <td>0.013256</td>\n",
       "    </tr>\n",
       "  </tbody>\n",
       "</table>\n",
       "</div>"
      ],
      "text/plain": [
       "   regionidzip  taxamount  taxvaluedollarcnt  property_tax_rate  \\\n",
       "0      96095.0   20800.37          1434941.0           0.014496   \n",
       "1      96095.0    5554.09           465989.0           0.011919   \n",
       "2      96095.0    1727.05           121376.0           0.014229   \n",
       "3      96095.0    4964.27           422000.0           0.011764   \n",
       "4      96095.0    3954.09           329244.0           0.012010   \n",
       "\n",
       "   county_tax_rate  \n",
       "0         0.013256  \n",
       "1         0.013256  \n",
       "2         0.013256  \n",
       "3         0.013256  \n",
       "4         0.013256  "
      ]
     },
     "execution_count": 16,
     "metadata": {},
     "output_type": "execute_result"
    }
   ],
   "source": [
    "result.head()"
   ]
  },
  {
   "cell_type": "code",
   "execution_count": 17,
   "metadata": {},
   "outputs": [],
   "source": [
    "result['property_tax_rate'] = round(result.property_tax_rate, 3) "
   ]
  },
  {
   "cell_type": "code",
   "execution_count": 18,
   "metadata": {},
   "outputs": [
    {
     "data": {
      "text/html": [
       "<div>\n",
       "<style scoped>\n",
       "    .dataframe tbody tr th:only-of-type {\n",
       "        vertical-align: middle;\n",
       "    }\n",
       "\n",
       "    .dataframe tbody tr th {\n",
       "        vertical-align: top;\n",
       "    }\n",
       "\n",
       "    .dataframe thead th {\n",
       "        text-align: right;\n",
       "    }\n",
       "</style>\n",
       "<table border=\"1\" class=\"dataframe\">\n",
       "  <thead>\n",
       "    <tr style=\"text-align: right;\">\n",
       "      <th></th>\n",
       "      <th>regionidzip</th>\n",
       "      <th>taxamount</th>\n",
       "      <th>taxvaluedollarcnt</th>\n",
       "      <th>property_tax_rate</th>\n",
       "      <th>county_tax_rate</th>\n",
       "    </tr>\n",
       "  </thead>\n",
       "  <tbody>\n",
       "    <tr>\n",
       "      <th>0</th>\n",
       "      <td>96095.0</td>\n",
       "      <td>20800.37</td>\n",
       "      <td>1434941.0</td>\n",
       "      <td>0.014</td>\n",
       "      <td>0.013256</td>\n",
       "    </tr>\n",
       "    <tr>\n",
       "      <th>1</th>\n",
       "      <td>96095.0</td>\n",
       "      <td>5554.09</td>\n",
       "      <td>465989.0</td>\n",
       "      <td>0.012</td>\n",
       "      <td>0.013256</td>\n",
       "    </tr>\n",
       "    <tr>\n",
       "      <th>2</th>\n",
       "      <td>96095.0</td>\n",
       "      <td>1727.05</td>\n",
       "      <td>121376.0</td>\n",
       "      <td>0.014</td>\n",
       "      <td>0.013256</td>\n",
       "    </tr>\n",
       "    <tr>\n",
       "      <th>3</th>\n",
       "      <td>96095.0</td>\n",
       "      <td>4964.27</td>\n",
       "      <td>422000.0</td>\n",
       "      <td>0.012</td>\n",
       "      <td>0.013256</td>\n",
       "    </tr>\n",
       "    <tr>\n",
       "      <th>4</th>\n",
       "      <td>96095.0</td>\n",
       "      <td>3954.09</td>\n",
       "      <td>329244.0</td>\n",
       "      <td>0.012</td>\n",
       "      <td>0.013256</td>\n",
       "    </tr>\n",
       "  </tbody>\n",
       "</table>\n",
       "</div>"
      ],
      "text/plain": [
       "   regionidzip  taxamount  taxvaluedollarcnt  property_tax_rate  \\\n",
       "0      96095.0   20800.37          1434941.0              0.014   \n",
       "1      96095.0    5554.09           465989.0              0.012   \n",
       "2      96095.0    1727.05           121376.0              0.014   \n",
       "3      96095.0    4964.27           422000.0              0.012   \n",
       "4      96095.0    3954.09           329244.0              0.012   \n",
       "\n",
       "   county_tax_rate  \n",
       "0         0.013256  \n",
       "1         0.013256  \n",
       "2         0.013256  \n",
       "3         0.013256  \n",
       "4         0.013256  "
      ]
     },
     "execution_count": 18,
     "metadata": {},
     "output_type": "execute_result"
    }
   ],
   "source": [
    "result.head()"
   ]
  },
  {
   "cell_type": "code",
   "execution_count": 19,
   "metadata": {},
   "outputs": [],
   "source": [
    "result['county_tax_rate'] = round(result.county_tax_rate, 3)"
   ]
  },
  {
   "cell_type": "code",
   "execution_count": 20,
   "metadata": {},
   "outputs": [
    {
     "data": {
      "text/html": [
       "<div>\n",
       "<style scoped>\n",
       "    .dataframe tbody tr th:only-of-type {\n",
       "        vertical-align: middle;\n",
       "    }\n",
       "\n",
       "    .dataframe tbody tr th {\n",
       "        vertical-align: top;\n",
       "    }\n",
       "\n",
       "    .dataframe thead th {\n",
       "        text-align: right;\n",
       "    }\n",
       "</style>\n",
       "<table border=\"1\" class=\"dataframe\">\n",
       "  <thead>\n",
       "    <tr style=\"text-align: right;\">\n",
       "      <th></th>\n",
       "      <th>regionidzip</th>\n",
       "      <th>taxamount</th>\n",
       "      <th>taxvaluedollarcnt</th>\n",
       "      <th>property_tax_rate</th>\n",
       "      <th>county_tax_rate</th>\n",
       "    </tr>\n",
       "  </thead>\n",
       "  <tbody>\n",
       "    <tr>\n",
       "      <th>0</th>\n",
       "      <td>96095.0</td>\n",
       "      <td>20800.37</td>\n",
       "      <td>1434941.0</td>\n",
       "      <td>0.014</td>\n",
       "      <td>0.013</td>\n",
       "    </tr>\n",
       "    <tr>\n",
       "      <th>1</th>\n",
       "      <td>96095.0</td>\n",
       "      <td>5554.09</td>\n",
       "      <td>465989.0</td>\n",
       "      <td>0.012</td>\n",
       "      <td>0.013</td>\n",
       "    </tr>\n",
       "    <tr>\n",
       "      <th>2</th>\n",
       "      <td>96095.0</td>\n",
       "      <td>1727.05</td>\n",
       "      <td>121376.0</td>\n",
       "      <td>0.014</td>\n",
       "      <td>0.013</td>\n",
       "    </tr>\n",
       "    <tr>\n",
       "      <th>3</th>\n",
       "      <td>96095.0</td>\n",
       "      <td>4964.27</td>\n",
       "      <td>422000.0</td>\n",
       "      <td>0.012</td>\n",
       "      <td>0.013</td>\n",
       "    </tr>\n",
       "    <tr>\n",
       "      <th>4</th>\n",
       "      <td>96095.0</td>\n",
       "      <td>3954.09</td>\n",
       "      <td>329244.0</td>\n",
       "      <td>0.012</td>\n",
       "      <td>0.013</td>\n",
       "    </tr>\n",
       "  </tbody>\n",
       "</table>\n",
       "</div>"
      ],
      "text/plain": [
       "   regionidzip  taxamount  taxvaluedollarcnt  property_tax_rate  \\\n",
       "0      96095.0   20800.37          1434941.0              0.014   \n",
       "1      96095.0    5554.09           465989.0              0.012   \n",
       "2      96095.0    1727.05           121376.0              0.014   \n",
       "3      96095.0    4964.27           422000.0              0.012   \n",
       "4      96095.0    3954.09           329244.0              0.012   \n",
       "\n",
       "   county_tax_rate  \n",
       "0            0.013  \n",
       "1            0.013  \n",
       "2            0.013  \n",
       "3            0.013  \n",
       "4            0.013  "
      ]
     },
     "execution_count": 20,
     "metadata": {},
     "output_type": "execute_result"
    }
   ],
   "source": [
    "result.head()"
   ]
  },
  {
   "cell_type": "code",
   "execution_count": null,
   "metadata": {},
   "outputs": [],
   "source": []
  }
 ],
 "metadata": {
  "kernelspec": {
   "display_name": "Python 3",
   "language": "python",
   "name": "python3"
  },
  "language_info": {
   "codemirror_mode": {
    "name": "ipython",
    "version": 3
   },
   "file_extension": ".py",
   "mimetype": "text/x-python",
   "name": "python",
   "nbconvert_exporter": "python",
   "pygments_lexer": "ipython3",
   "version": "3.7.6"
  }
 },
 "nbformat": 4,
 "nbformat_minor": 4
}
