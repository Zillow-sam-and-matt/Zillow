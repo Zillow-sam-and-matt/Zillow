{
 "cells": [
  {
   "cell_type": "code",
   "execution_count": 49,
   "metadata": {},
   "outputs": [],
   "source": [
    "import pandas as pd\n",
    "import numpy as np\n",
    "import sklearn\n",
    "import matt_acquire\n",
    "import matt_prepare\n",
    "import pandas as pd\n",
    "import numpy as np\n",
    "import sklearn\n",
    "import matt_acquire\n",
    "from matt_acquire import get_zillow_data\n",
    "from sklearn.preprocessing import MinMaxScaler\n",
    "from scipy import stats\n",
    "import matplotlib.pyplot as plt\n",
    "import seaborn as sns\n",
    "\n",
    "from sklearn.model_selection import train_test_split\n",
    "\n",
    "from matt_acquire import get_zillow_data\n",
    "from matt_prepare import prep_zillow_data\n"
   ]
  },
  {
   "cell_type": "code",
   "execution_count": 3,
   "metadata": {},
   "outputs": [],
   "source": [
    "# Pull in our data both scaled and unscaled"
   ]
  },
  {
   "cell_type": "code",
   "execution_count": 4,
   "metadata": {},
   "outputs": [],
   "source": [
    "def prep_zillow_data(target):\n",
    "    df = get_zillow_data()\n",
    "    df = df[['calculatedfinishedsquarefeet', 'bedroomcnt', 'bathroomcnt', 'lotsizesquarefeet', 'taxvaluedollarcnt']]\n",
    "    df.dropna(inplace=True)\n",
    "\n",
    "    train_validate, test = train_test_split(df, test_size=.2, random_state=123)\n",
    "\n",
    "    train, validate = train_test_split(train_validate, test_size=.3, random_state=123)\n",
    "\n",
    "    X_train = train.drop(columns=[target])\n",
    "    y_train = train[target]\n",
    "    \n",
    "    X_validate = validate.drop(columns=[target])\n",
    "    y_validate = validate[target]\n",
    "    \n",
    "    X_test = test.drop(columns=[target])\n",
    "    y_test = test[target]\n",
    "    \n",
    "    scaler = sklearn.preprocessing.MinMaxScaler()\n",
    "\n",
    "    scaler.fit(X_train)\n",
    "\n",
    "    X_train_scaled = pd.DataFrame(scaler.transform(X_train))\n",
    "    X_validate_scaled = pd.DataFrame(scaler.transform(X_validate))\n",
    "    X_test_scaled = pd.DataFrame(scaler.transform(X_test))\n",
    "\n",
    "    X_train_scaled.rename(columns={0: 'Unit_Sq_ft', 1: 'Bedroom_Count', 2: 'Bathroom_Count', 3: 'lotsizesquarefeet' }, inplace=True)\n",
    "    X_validate_scaled.rename(columns={0: 'Unit_Sq_ft', 1: 'Bedroom_Count', 2: 'Bathroom_Count', 3: 'lotsizesquarefeet'}, inplace=True)\n",
    "    X_test_scaled.rename(columns={0: 'Unit_Sq_ft', 1: 'Bedroom_Count', 2: 'Bathroom_Count', 3: 'lotsizesquarefeet'}, inplace=True)\n",
    "\n",
    "    return train, y_train, y_validate, y_test, X_train_scaled, X_train, X_validate, X_test, X_validate_scaled, X_test_scaled"
   ]
  },
  {
   "cell_type": "code",
   "execution_count": 5,
   "metadata": {},
   "outputs": [],
   "source": [
    "train, y_train, y_validate, y_test, X_train_scaled, X_train, X_validate, X_test, X_validate_scaled, X_test_scaled = prep_zillow_data('taxvaluedollarcnt')"
   ]
  },
  {
   "cell_type": "code",
   "execution_count": 6,
   "metadata": {},
   "outputs": [],
   "source": [
    "# Hypothesis Test"
   ]
  },
  {
   "cell_type": "code",
   "execution_count": 7,
   "metadata": {},
   "outputs": [],
   "source": [
    "alpha = .05"
   ]
  },
  {
   "cell_type": "code",
   "execution_count": 8,
   "metadata": {},
   "outputs": [
    {
     "name": "stdout",
     "output_type": "stream",
     "text": [
      "<class 'pandas.core.frame.DataFrame'>\n",
      "Int64Index: 7266 entries, 6531 to 10999\n",
      "Data columns (total 4 columns):\n",
      " #   Column                        Non-Null Count  Dtype  \n",
      "---  ------                        --------------  -----  \n",
      " 0   calculatedfinishedsquarefeet  7266 non-null   float64\n",
      " 1   bedroomcnt                    7266 non-null   float64\n",
      " 2   bathroomcnt                   7266 non-null   float64\n",
      " 3   lotsizesquarefeet             7266 non-null   float64\n",
      "dtypes: float64(4)\n",
      "memory usage: 283.8 KB\n"
     ]
    }
   ],
   "source": [
    "X_train.info()"
   ]
  },
  {
   "cell_type": "markdown",
   "metadata": {},
   "source": [
    "# Explore\n",
    "We will explore our prepped data to identify drivers of house value and relationships between variables.\n",
    "***"
   ]
  },
  {
   "cell_type": "markdown",
   "metadata": {},
   "source": [
    "We begin by creating a heatmap of that includes each of the features we retained from our prep phase:\n",
    "- unit_sq_ft (formerly calculatedfinishedsquarefeet) \n",
    "- bedroom_count (formerly bedroomcnt)                    \n",
    "- bathroom_count (formerly bathroomcnt)\n",
    "- lot_size_sq_ft (formerly lotsizesquarefeet) "
   ]
  },
  {
   "cell_type": "code",
   "execution_count": 58,
   "metadata": {},
   "outputs": [
    {
     "data": {
      "text/plain": [
       "(0, 4)"
      ]
     },
     "execution_count": 58,
     "metadata": {},
     "output_type": "execute_result"
    },
    {
     "data": {
      "image/png": "[encoded data removed]",
      "text/plain": [
       "<Figure size 720x648 with 2 Axes>"
      ]
     },
     "metadata": {
      "needs_background": "light"
     },
     "output_type": "display_data"
    }
   ],
   "source": [
    "# creating copy of train DF to avoid altering the original\n",
    "hmap_train = train.copy()\n",
    "\n",
    "# creating scaler object\n",
    "scaler = sklearn.preprocessing.MinMaxScaler()\n",
    "\n",
    "# fitting scaler to train data\n",
    "scaler.fit(hmap_train)\n",
    "\n",
    "# scaling train data and converting to data frame\n",
    "hmap_train = pd.DataFrame(scaler.transform(hmap_train))\n",
    "\n",
    "# renaming columns as they were erased in the DF conversion\n",
    "hmap_train.rename(columns={0: 'Unit_Sq_ft', 1: 'Bedroom_Count', 2: 'Bathroom_Count', 3: 'Lot_Size_Sq_Ft', 4: 'Tax_Dollar_Value' }, inplace=True)\n",
    "\n",
    "# plotting heatmap\n",
    "plt.figure(figsize=(10,9))\n",
    "sns.heatmap(hmap_train.corr(), cmap='Blues', annot=True)\n",
    "plt.ylim(0, 4)"
   ]
  },
  {
   "cell_type": "markdown",
   "metadata": {},
   "source": [
    "Given their strong tones and coefficients, bathroom_count, bedroom_count and unit_sq_ft all appear to be strong drivers of house value.\n",
    "\n",
    "Given it's weak coloring an low coefficient, lot_size_sq_feet appears to be a weak drivr of house value.\n",
    "\n",
    "We will create hypothesis tests and visualizations to further explore each of these features in more depth."
   ]
  },
  {
   "cell_type": "markdown",
   "metadata": {},
   "source": [
    "### Feature: calculatedfinishedsquarefeet\n",
    "\n",
    "### Initial idea: The value of a house is impacted by how large its size. \n",
    "\n",
    "### Test: Pearson Correlation"
   ]
  },
  {
   "cell_type": "markdown",
   "metadata": {},
   "source": [
    "Ho = There is no linear correlation between calculated finished square feet and home value.\n",
    "\n",
    "H1 = There is a linear correlation between calculated finished square feet and home value."
   ]
  },
  {
   "cell_type": "code",
   "execution_count": 36,
   "metadata": {},
   "outputs": [
    {
     "name": "stdout",
     "output_type": "stream",
     "text": [
      "alpha = .05\n",
      "\n",
      "r = 0.59134\n",
      "p = 0.000\n"
     ]
    }
   ],
   "source": [
    "x = X_train['calculatedfinishedsquarefeet']\n",
    "y = y_train\n",
    "r, p = stats.pearsonr(x, y)\n",
    "\n",
    "print(f'alpha = .05\\n')\n",
    "print(f'r = {r:.5f}')\n",
    "print(f'p = {p:.3f}')"
   ]
  },
  {
   "cell_type": "markdown",
   "metadata": {},
   "source": [
    "- Since p is less than alpha, we reject our null hypothesis that there is no linear relationship between calculated finished square feet and home value.\n",
    "\n",
    "- In other words, there is evidence that the size of a house has an impact on the house's value."
   ]
  },
  {
   "cell_type": "markdown",
   "metadata": {},
   "source": [
    "### Feature: lotsizesquarefeet\n",
    "\n",
    "### Initial idea: The value of a house is impacted by how the size of the lot it is located on. \n",
    "\n",
    "### Test: Pearson Correlation"
   ]
  },
  {
   "cell_type": "markdown",
   "metadata": {},
   "source": [
    "Ho = There is no linear correlation between lot size and home value.\n",
    "\n",
    "H1 = There is a linear correlation between lot size and home value."
   ]
  },
  {
   "cell_type": "code",
   "execution_count": 37,
   "metadata": {},
   "outputs": [
    {
     "name": "stdout",
     "output_type": "stream",
     "text": [
      "alpha = .05\n",
      "\n",
      "r = -0.03342\n",
      "p = 0.004\n"
     ]
    }
   ],
   "source": [
    "x = X_train['lotsizesquarefeet']\n",
    "y = y_train\n",
    "r, p = stats.pearsonr(x, y)\n",
    "\n",
    "print(f'alpha = .05\\n')\n",
    "print(f'r = {r:.5f}')\n",
    "print(f'p = {p:.3f}')"
   ]
  },
  {
   "cell_type": "markdown",
   "metadata": {},
   "source": [
    "- Since p is less than alpha, we reject our null hypothesis that there is no linear correlation between bathroom count and home value.\n",
    "\n",
    "- In other words, there is evidence that the size of the lot a house is located on has an impact on the house's value."
   ]
  },
  {
   "cell_type": "markdown",
   "metadata": {},
   "source": [
    "# T-Test"
   ]
  },
  {
   "cell_type": "markdown",
   "metadata": {},
   "source": [
    "### Feature: bathroom_count \n",
    "\n",
    "### Initial idea: The value of a unit will increase if it has more than the average number of bathrooms. We will calculate the average number of bathrooms per house and then formulate a hypothesis using this data.\n",
    "\n",
    "### Test: T-Test"
   ]
  },
  {
   "cell_type": "code",
   "execution_count": 40,
   "metadata": {},
   "outputs": [
    {
     "name": "stdout",
     "output_type": "stream",
     "text": [
      "The average number of bathrooms in a house is 2.\n",
      "\n",
      "We will formulate our hypothesis on the grounds that a house has more than the average number of bathrooms if it has 3 or more\n"
     ]
    }
   ],
   "source": [
    "# calculating average number of bathrooms per house\n",
    "avg_bathroom_count = round((train.bathroomcnt).mean())\n",
    "\n",
    "print(f'The average number of bathrooms in a house is {avg_bathroom_count}.\\n')\n",
    "print(f'We will formulate our hypothesis on the grounds that a house has more than the average number of bathrooms if it has 3 or more')"
   ]
  },
  {
   "cell_type": "markdown",
   "metadata": {},
   "source": [
    "H0 - The value of units with 3 or more bathrooms is equal to or less than the value of units with 2 or less bathrooms\n",
    "\n",
    "H1 - The value of units with 3 or more bathrooms is greater than the value of units with 2 or less bathrooms."
   ]
  },
  {
   "cell_type": "code",
   "execution_count": 41,
   "metadata": {},
   "outputs": [],
   "source": [
    "x1 = train[train.bathroomcnt > 2].taxvaluedollarcnt\n",
    "x2 = train[train.bathroomcnt <= 2].taxvaluedollarcnt"
   ]
  },
  {
   "cell_type": "code",
   "execution_count": 42,
   "metadata": {},
   "outputs": [
    {
     "name": "stdout",
     "output_type": "stream",
     "text": [
      "alpha = .05\n",
      "\n",
      "t = 25.07040\n",
      "p = 2.0955693980555035e-133\n"
     ]
    }
   ],
   "source": [
    "t, p = stats.ttest_ind(x1, x2)\n",
    "print(f'alpha = .05\\n')\n",
    "print(f't = {t:.5f}')\n",
    "print (f'p = {p / 2}')"
   ]
  },
  {
   "cell_type": "markdown",
   "metadata": {},
   "source": [
    "- Since p is less than alpha and t is greater than 0, we reject our null hypothesis that the value of units with 3 or more bathrooms is equal to or less than the value of units with 2 or less bathrooms.\n",
    "\n",
    "- In other words, there is evidence that bathroom_count is a positive driver of house value."
   ]
  },
  {
   "cell_type": "markdown",
   "metadata": {},
   "source": [
    "### Feature: bedroom_count\n",
    "\n",
    "### Initial idea: The value of a unit will increase if it has more than the average number of bedrooms. We will calculate the average number of bedrooms per house and then formulate a hypothesis using this data.\n",
    "\n",
    "### Test: T-Test"
   ]
  },
  {
   "cell_type": "code",
   "execution_count": 30,
   "metadata": {},
   "outputs": [
    {
     "name": "stdout",
     "output_type": "stream",
     "text": [
      "The average number of bedrooms in a house is 3.\n",
      "\n",
      "We will formulate our hypothesis on the grounds that a house has more than the average number of bedrooms if it has 3 or more\n"
     ]
    }
   ],
   "source": [
    "# calculating average number of bedrooms per house\n",
    "avg_bedroom_count = round((train.bedroomcnt).mean())\n",
    "\n",
    "print(f'The average number of bedrooms in a house is {avg_bedroom_count}.\\n')\n",
    "print(f'We will formulate our hypothesis on the grounds that a house has more than the average number of bedrooms if it has 3 or more')"
   ]
  },
  {
   "cell_type": "markdown",
   "metadata": {},
   "source": [
    "H0 - The value of units with 3 or more bedrooms is equal to or less than the value of units with 2 or less bedrooms. \n",
    "\n",
    "H1 - The value of units with 3 or more bedrooms is greater than the value of units with less 2 or less bedrooms."
   ]
  },
  {
   "cell_type": "code",
   "execution_count": 31,
   "metadata": {},
   "outputs": [],
   "source": [
    "x1 = train[train.bedroomcnt > 2].taxvaluedollarcnt\n",
    "x2 = train[train.bedroomcnt <= 2].taxvaluedollarcnt"
   ]
  },
  {
   "cell_type": "code",
   "execution_count": 39,
   "metadata": {},
   "outputs": [
    {
     "name": "stdout",
     "output_type": "stream",
     "text": [
      "alpha = .05\n",
      "\n",
      "t = 10.06640\n",
      "p = 5.5569806575727444e-24\n"
     ]
    }
   ],
   "source": [
    "t, p = stats.ttest_ind(x1, x2)\n",
    "print(f'alpha = .05\\n')\n",
    "print(f't = {t:.5f}')\n",
    "print (f'p = {p / 2}')"
   ]
  },
  {
   "cell_type": "markdown",
   "metadata": {},
   "source": [
    "- Since p is less than alpha and t is greater than 0, we reject our null hypothesis that the value of units with 3 or more bedrooms is equal to or less than the value of units with 2 or less bedrooms.\n",
    "\n",
    "- In other words, there is evidence that bedroom_count is a positive driver of house value."
   ]
  },
  {
   "cell_type": "markdown",
   "metadata": {},
   "source": [
    "### Exploration Takeaways\n",
    "\n",
    "- Heatmap of all features shows bathroom_count, bedroom_count and unit_sq_ft are strong drivers of house value\n",
    "\n",
    "- T-Tests suggest that having more than the average number of bathrooms or bedrooms in a house increases its value\n",
    "\n",
    "- Pearson Correlation tests suggest that the size of a house and the lot it's located on have an impact on its value"
   ]
  },
  {
   "cell_type": "code",
   "execution_count": null,
   "metadata": {},
   "outputs": [],
   "source": []
  }
 ],
 "metadata": {
  "kernelspec": {
   "display_name": "Python 3",
   "language": "python",
   "name": "python3"
  },
  "language_info": {
   "codemirror_mode": {
    "name": "ipython",
    "version": 3
   },
   "file_extension": ".py",
   "mimetype": "text/x-python",
   "name": "python",
   "nbconvert_exporter": "python",
   "pygments_lexer": "ipython3",
   "version": "3.7.6"
  }
 },
 "nbformat": 4,
 "nbformat_minor": 4
}
