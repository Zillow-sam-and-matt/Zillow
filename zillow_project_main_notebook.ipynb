{
 "cells": [
  {
   "cell_type": "markdown",
   "metadata": {},
   "source": [
    "# Single Unit Properties at Zillow: Predicting Values and Identifying Drivers\n",
    "***"
   ]
  },
  {
   "cell_type": "markdown",
   "metadata": {},
   "source": [
    "## Goals\n",
    "\n",
    "This project has three goals:\n",
    "\n",
    "1) Create a model that will acurrately predict the values of single unit properties that the tax district assesses. \n",
    "\n",
    "2) Identify and report the drivers of the values of single unit properties that the tax district assesses.\n",
    "\n",
    "3) Provide a dataframe that contains the state, county, tax rate and county tax rate of each property as well as a dataframe that reflects the each county and their respective tax rate. \n"
   ]
  },
  {
   "cell_type": "code",
   "execution_count": 2,
   "metadata": {},
   "outputs": [],
   "source": [
    "# Establishing environment\n",
    "import pandas as pd\n",
    "import numpy as np\n",
    "import scipy.stats as stats\n",
    "import matplotlib.pyplot as plt\n",
    "import seaborn as sns\n",
    "import sklearn\n",
    "\n",
    "from env import host, user, password\n",
    "from sklearn.model_selection import train_test_split\n",
    "from sklearn.metrics import classification_report, confusion_matrix, mean_squared_error, explained_variance_score\n",
    "from sklearn.linear_model import LogisticRegression, LinearRegression\n",
    "from sklearn.tree import DecisionTreeClassifier\n",
    "from sklearn.tree import export_graphviz\n",
    "from sklearn.ensemble import RandomForestClassifier\n",
    "from sklearn.neighbors import KNeighborsClassifier\n",
    "from sklearn.metrics import f1_score\n",
    "from prepare import prep_zillow_data\n",
    "from sklearn.preprocessing import MinMaxScaler, PolynomialFeatures\n",
    "from sklearn.feature_selection import SelectKBest, f_regression, RFE\n",
    "from acquire import get_zillow_data\n",
    "from prepare import prep_zillow_data\n",
    "\n",
    "import warnings\n",
    "warnings.filterwarnings(\"ignore\")"
   ]
  },
  {
   "cell_type": "markdown",
   "metadata": {},
   "source": [
    "## Acquire\n",
    "Acquire data from the customers table from the zillow database on the codeup data science database server.\n",
    "\n",
    "\n",
    "We will also be taking the functions from this phase and creating an acquire.py file so our work can be easily replicated.\n",
    "***"
   ]
  },
  {
   "cell_type": "markdown",
   "metadata": {},
   "source": [
    "Function below creates a URL string that can be used to connect to the data science database"
   ]
  },
  {
   "cell_type": "code",
   "execution_count": 2,
   "metadata": {},
   "outputs": [],
   "source": [
    "def get_connection(db, user=user, host=host, password=password):\n",
    "    \"\"\"\n",
    "    Function creates a URL that can be used to connect to the data science database.\n",
    "    \"\"\"\n",
    "    return f'mysql+pymysql://{user}:{password}@{host}/{db}'"
   ]
  },
  {
   "cell_type": "markdown",
   "metadata": {},
   "source": [
    "The function below creates a dataframe from the zillow data by using the URL string from the first function and connecting to the zillow table in the data science database."
   ]
  },
  {
   "cell_type": "code",
   "execution_count": 3,
   "metadata": {},
   "outputs": [],
   "source": [
    "def get_zillow_data():\n",
    "    \"\"\"\n",
    "    Function connects to the data science database and returns a data frame containing Zillow data for propertys whose last transaction was in May through June 2017.\n",
    "    \"\"\"\n",
    "    # SQL query string\n",
    "    sql_query = \"SELECT * FROM properties_2017 JOIN predictions_2017 on predictions_2017.parcelid = properties_2017.parcelid WHERE unitcnt = 1 AND transactiondate BETWEEN '2017-05-01' AND '2017-06-30'\"\n",
    "    # creates dataframe using data from DS database\n",
    "    df = pd.read_sql(sql_query, get_connection('zillow'))\n",
    "    # returns DF \n",
    "    return df"
   ]
  },
  {
   "cell_type": "markdown",
   "metadata": {},
   "source": [
    "We will now test our function to ensure it works."
   ]
  },
  {
   "cell_type": "code",
   "execution_count": 3,
   "metadata": {},
   "outputs": [
    {
     "data": {
      "text/html": [
       "<div>\n",
       "<style scoped>\n",
       "    .dataframe tbody tr th:only-of-type {\n",
       "        vertical-align: middle;\n",
       "    }\n",
       "\n",
       "    .dataframe tbody tr th {\n",
       "        vertical-align: top;\n",
       "    }\n",
       "\n",
       "    .dataframe thead th {\n",
       "        text-align: right;\n",
       "    }\n",
       "</style>\n",
       "<table border=\"1\" class=\"dataframe\">\n",
       "  <thead>\n",
       "    <tr style=\"text-align: right;\">\n",
       "      <th></th>\n",
       "      <th>id</th>\n",
       "      <th>parcelid</th>\n",
       "      <th>airconditioningtypeid</th>\n",
       "      <th>architecturalstyletypeid</th>\n",
       "      <th>basementsqft</th>\n",
       "      <th>bathroomcnt</th>\n",
       "      <th>bedroomcnt</th>\n",
       "      <th>buildingclasstypeid</th>\n",
       "      <th>buildingqualitytypeid</th>\n",
       "      <th>calculatedbathnbr</th>\n",
       "      <th>...</th>\n",
       "      <th>assessmentyear</th>\n",
       "      <th>landtaxvaluedollarcnt</th>\n",
       "      <th>taxamount</th>\n",
       "      <th>taxdelinquencyflag</th>\n",
       "      <th>taxdelinquencyyear</th>\n",
       "      <th>censustractandblock</th>\n",
       "      <th>id</th>\n",
       "      <th>parcelid</th>\n",
       "      <th>logerror</th>\n",
       "      <th>transactiondate</th>\n",
       "    </tr>\n",
       "  </thead>\n",
       "  <tbody>\n",
       "    <tr>\n",
       "      <th>0</th>\n",
       "      <td>2061546</td>\n",
       "      <td>11289917</td>\n",
       "      <td>1.0</td>\n",
       "      <td>None</td>\n",
       "      <td>None</td>\n",
       "      <td>2.0</td>\n",
       "      <td>3.0</td>\n",
       "      <td>NaN</td>\n",
       "      <td>6.0</td>\n",
       "      <td>2.0</td>\n",
       "      <td>...</td>\n",
       "      <td>2016.0</td>\n",
       "      <td>27214.0</td>\n",
       "      <td>2319.90</td>\n",
       "      <td>Y</td>\n",
       "      <td>15.0</td>\n",
       "      <td>6.037901e+13</td>\n",
       "      <td>1248</td>\n",
       "      <td>11289917</td>\n",
       "      <td>-0.362001</td>\n",
       "      <td>2017-06-23</td>\n",
       "    </tr>\n",
       "    <tr>\n",
       "      <th>1</th>\n",
       "      <td>1834372</td>\n",
       "      <td>11705026</td>\n",
       "      <td>NaN</td>\n",
       "      <td>None</td>\n",
       "      <td>None</td>\n",
       "      <td>1.0</td>\n",
       "      <td>2.0</td>\n",
       "      <td>NaN</td>\n",
       "      <td>6.0</td>\n",
       "      <td>1.0</td>\n",
       "      <td>...</td>\n",
       "      <td>2016.0</td>\n",
       "      <td>23624.0</td>\n",
       "      <td>543.69</td>\n",
       "      <td>None</td>\n",
       "      <td>NaN</td>\n",
       "      <td>6.037232e+13</td>\n",
       "      <td>1772</td>\n",
       "      <td>11705026</td>\n",
       "      <td>-0.146056</td>\n",
       "      <td>2017-06-30</td>\n",
       "    </tr>\n",
       "    <tr>\n",
       "      <th>2</th>\n",
       "      <td>2121349</td>\n",
       "      <td>11389003</td>\n",
       "      <td>NaN</td>\n",
       "      <td>None</td>\n",
       "      <td>None</td>\n",
       "      <td>2.0</td>\n",
       "      <td>3.0</td>\n",
       "      <td>NaN</td>\n",
       "      <td>6.0</td>\n",
       "      <td>2.0</td>\n",
       "      <td>...</td>\n",
       "      <td>2016.0</td>\n",
       "      <td>449000.0</td>\n",
       "      <td>7673.19</td>\n",
       "      <td>None</td>\n",
       "      <td>NaN</td>\n",
       "      <td>6.037703e+13</td>\n",
       "      <td>3273</td>\n",
       "      <td>11389003</td>\n",
       "      <td>-0.325393</td>\n",
       "      <td>2017-06-01</td>\n",
       "    </tr>\n",
       "    <tr>\n",
       "      <th>3</th>\n",
       "      <td>2093710</td>\n",
       "      <td>11967869</td>\n",
       "      <td>NaN</td>\n",
       "      <td>None</td>\n",
       "      <td>None</td>\n",
       "      <td>1.0</td>\n",
       "      <td>2.0</td>\n",
       "      <td>NaN</td>\n",
       "      <td>5.0</td>\n",
       "      <td>1.0</td>\n",
       "      <td>...</td>\n",
       "      <td>2016.0</td>\n",
       "      <td>191821.0</td>\n",
       "      <td>3267.47</td>\n",
       "      <td>None</td>\n",
       "      <td>NaN</td>\n",
       "      <td>6.037185e+13</td>\n",
       "      <td>3429</td>\n",
       "      <td>11967869</td>\n",
       "      <td>-0.005566</td>\n",
       "      <td>2017-06-29</td>\n",
       "    </tr>\n",
       "    <tr>\n",
       "      <th>4</th>\n",
       "      <td>1288537</td>\n",
       "      <td>12035176</td>\n",
       "      <td>NaN</td>\n",
       "      <td>None</td>\n",
       "      <td>None</td>\n",
       "      <td>1.0</td>\n",
       "      <td>1.0</td>\n",
       "      <td>NaN</td>\n",
       "      <td>11.0</td>\n",
       "      <td>1.0</td>\n",
       "      <td>...</td>\n",
       "      <td>2016.0</td>\n",
       "      <td>146810.0</td>\n",
       "      <td>2926.19</td>\n",
       "      <td>None</td>\n",
       "      <td>NaN</td>\n",
       "      <td>6.037189e+13</td>\n",
       "      <td>5444</td>\n",
       "      <td>12035176</td>\n",
       "      <td>-0.114435</td>\n",
       "      <td>2017-05-24</td>\n",
       "    </tr>\n",
       "  </tbody>\n",
       "</table>\n",
       "<p>5 rows × 63 columns</p>\n",
       "</div>"
      ],
      "text/plain": [
       "        id  parcelid  airconditioningtypeid architecturalstyletypeid  \\\n",
       "0  2061546  11289917                    1.0                     None   \n",
       "1  1834372  11705026                    NaN                     None   \n",
       "2  2121349  11389003                    NaN                     None   \n",
       "3  2093710  11967869                    NaN                     None   \n",
       "4  1288537  12035176                    NaN                     None   \n",
       "\n",
       "  basementsqft  bathroomcnt  bedroomcnt  buildingclasstypeid  \\\n",
       "0         None          2.0         3.0                  NaN   \n",
       "1         None          1.0         2.0                  NaN   \n",
       "2         None          2.0         3.0                  NaN   \n",
       "3         None          1.0         2.0                  NaN   \n",
       "4         None          1.0         1.0                  NaN   \n",
       "\n",
       "   buildingqualitytypeid  calculatedbathnbr  ... assessmentyear  \\\n",
       "0                    6.0                2.0  ...         2016.0   \n",
       "1                    6.0                1.0  ...         2016.0   \n",
       "2                    6.0                2.0  ...         2016.0   \n",
       "3                    5.0                1.0  ...         2016.0   \n",
       "4                   11.0                1.0  ...         2016.0   \n",
       "\n",
       "  landtaxvaluedollarcnt  taxamount  taxdelinquencyflag taxdelinquencyyear  \\\n",
       "0               27214.0    2319.90                   Y               15.0   \n",
       "1               23624.0     543.69                None                NaN   \n",
       "2              449000.0    7673.19                None                NaN   \n",
       "3              191821.0    3267.47                None                NaN   \n",
       "4              146810.0    2926.19                None                NaN   \n",
       "\n",
       "   censustractandblock    id  parcelid  logerror transactiondate  \n",
       "0         6.037901e+13  1248  11289917 -0.362001      2017-06-23  \n",
       "1         6.037232e+13  1772  11705026 -0.146056      2017-06-30  \n",
       "2         6.037703e+13  3273  11389003 -0.325393      2017-06-01  \n",
       "3         6.037185e+13  3429  11967869 -0.005566      2017-06-29  \n",
       "4         6.037189e+13  5444  12035176 -0.114435      2017-05-24  \n",
       "\n",
       "[5 rows x 63 columns]"
      ]
     },
     "execution_count": 3,
     "metadata": {},
     "output_type": "execute_result"
    }
   ],
   "source": [
    "# creating dataframe using data acquired from function\n",
    "df = get_zillow_data()\n",
    "\n",
    "# previewing data to ensure function operates correctly\n",
    "df.head()"
   ]
  },
  {
   "cell_type": "markdown",
   "metadata": {},
   "source": [
    "### Acquire Takeaways\n",
    "\n",
    "- Acquiring data from zillow database on the codeup data science database server via the __get_connection__ and __get_zillow_data__ function\n",
    "- Both functions from this section are available in the __acquire.py__ file deliverable"
   ]
  },
  {
   "cell_type": "markdown",
   "metadata": {},
   "source": [
    "## Prepare\n",
    "\n",
    "Prepare, tidy, and clean the data so it can be explored and analyzed.\n",
    "\n",
    "We will also be using the code from this phase to create an external prepare.py file that can be used to easily replicate our work.\n",
    "***"
   ]
  },
  {
   "cell_type": "code",
   "execution_count": 5,
   "metadata": {},
   "outputs": [
    {
     "name": "stdout",
     "output_type": "stream",
     "text": [
      "<class 'pandas.core.frame.DataFrame'>\n",
      "RangeIndex: 13309 entries, 0 to 13308\n",
      "Data columns (total 63 columns):\n",
      " #   Column                        Non-Null Count  Dtype  \n",
      "---  ------                        --------------  -----  \n",
      " 0   id                            13309 non-null  int64  \n",
      " 1   parcelid                      13309 non-null  int64  \n",
      " 2   airconditioningtypeid         6226 non-null   float64\n",
      " 3   architecturalstyletypeid      0 non-null      object \n",
      " 4   basementsqft                  0 non-null      object \n",
      " 5   bathroomcnt                   13309 non-null  float64\n",
      " 6   bedroomcnt                    13309 non-null  float64\n",
      " 7   buildingclasstypeid           2 non-null      float64\n",
      " 8   buildingqualitytypeid         13162 non-null  float64\n",
      " 9   calculatedbathnbr             13296 non-null  float64\n",
      " 10  decktypeid                    0 non-null      object \n",
      " 11  finishedfloor1squarefeet      0 non-null      object \n",
      " 12  calculatedfinishedsquarefeet  13308 non-null  float64\n",
      " 13  finishedsquarefeet12          13296 non-null  float64\n",
      " 14  finishedsquarefeet13          0 non-null      object \n",
      " 15  finishedsquarefeet15          11 non-null     float64\n",
      " 16  finishedsquarefeet50          0 non-null      object \n",
      " 17  finishedsquarefeet6           1 non-null      float64\n",
      " 18  fips                          13309 non-null  float64\n",
      " 19  fireplacecnt                  0 non-null      object \n",
      " 20  fullbathcnt                   13296 non-null  float64\n",
      " 21  garagecarcnt                  3 non-null      float64\n",
      " 22  garagetotalsqft               3 non-null      float64\n",
      " 23  hashottuborspa                0 non-null      object \n",
      " 24  heatingorsystemtypeid         13103 non-null  float64\n",
      " 25  latitude                      13309 non-null  float64\n",
      " 26  longitude                     13309 non-null  float64\n",
      " 27  lotsizesquarefeet             12976 non-null  float64\n",
      " 28  poolcnt                       3290 non-null   float64\n",
      " 29  poolsizesum                   0 non-null      object \n",
      " 30  pooltypeid10                  0 non-null      object \n",
      " 31  pooltypeid2                   0 non-null      object \n",
      " 32  pooltypeid7                   3287 non-null   float64\n",
      " 33  propertycountylandusecode     13309 non-null  object \n",
      " 34  propertylandusetypeid         13309 non-null  float64\n",
      " 35  propertyzoningdesc            13248 non-null  object \n",
      " 36  rawcensustractandblock        13309 non-null  float64\n",
      " 37  regionidcity                  13031 non-null  float64\n",
      " 38  regionidcounty                13309 non-null  float64\n",
      " 39  regionidneighborhood          6878 non-null   float64\n",
      " 40  regionidzip                   13306 non-null  float64\n",
      " 41  roomcnt                       13309 non-null  float64\n",
      " 42  storytypeid                   0 non-null      object \n",
      " 43  threequarterbathnbr           0 non-null      object \n",
      " 44  typeconstructiontypeid        0 non-null      object \n",
      " 45  unitcnt                       13309 non-null  float64\n",
      " 46  yardbuildingsqft17            0 non-null      object \n",
      " 47  yardbuildingsqft26            0 non-null      object \n",
      " 48  yearbuilt                     13303 non-null  float64\n",
      " 49  numberofstories               5 non-null      float64\n",
      " 50  fireplaceflag                 0 non-null      object \n",
      " 51  structuretaxvaluedollarcnt    13292 non-null  float64\n",
      " 52  taxvaluedollarcnt             13309 non-null  float64\n",
      " 53  assessmentyear                13309 non-null  float64\n",
      " 54  landtaxvaluedollarcnt         13309 non-null  float64\n",
      " 55  taxamount                     13308 non-null  float64\n",
      " 56  taxdelinquencyflag            555 non-null    object \n",
      " 57  taxdelinquencyyear            555 non-null    float64\n",
      " 58  censustractandblock           13275 non-null  float64\n",
      " 59  id                            13309 non-null  int64  \n",
      " 60  parcelid                      13309 non-null  int64  \n",
      " 61  logerror                      13309 non-null  float64\n",
      " 62  transactiondate               13309 non-null  object \n",
      "dtypes: float64(38), int64(4), object(21)\n",
      "memory usage: 6.4+ MB\n"
     ]
    }
   ],
   "source": [
    "# displaying column names and null value counts\n",
    "df.info()"
   ]
  },
  {
   "cell_type": "markdown",
   "metadata": {},
   "source": [
    "Dropping columns that meet any of the following criterion:\n",
    "* more than 2,000 null values \n",
    "* do not contain relevant data for predicting property value \n",
    "    - examples include irrelevant IDs, fips, etc.\n",
    "* taxamount, structuretaxvaluedollarcnt, landtaxvaluedollarcnt \n",
    "    - per project specifications we cannot use these columns\n",
    "        - \"for prediction purposes, we won't know tax amount until we know tax value\"\n",
    "        - confirmed by Data Science senior team member John Salas"
   ]
  },
  {
   "cell_type": "code",
   "execution_count": 6,
   "metadata": {},
   "outputs": [
    {
     "data": {
      "text/plain": [
       "id                          13308\n",
       "parcelid                    13308\n",
       "airconditioningtypeid           1\n",
       "architecturalstyletypeid        0\n",
       "basementsqft                    0\n",
       "                            ...  \n",
       "censustractandblock         10177\n",
       "id                          13309\n",
       "parcelid                    13308\n",
       "logerror                    13213\n",
       "transactiondate                56\n",
       "Length: 63, dtype: int64"
      ]
     },
     "execution_count": 6,
     "metadata": {},
     "output_type": "execute_result"
    }
   ],
   "source": [
    "# .nunique shows us how many unique values are held in each column\n",
    "df.nunique()"
   ]
  },
  {
   "cell_type": "markdown",
   "metadata": {},
   "source": [
    "Dropping columns that meet any of the following criterion:\n",
    "- categorical columns with more than 5 unique values \n",
    "    - it will be cumbersome to create a boolean value for each\n",
    "- columns with only 1 value as \n",
    "    - our model won't be able to make any meaningful distinctions with them"
   ]
  },
  {
   "cell_type": "markdown",
   "metadata": {},
   "source": [
    "While viewing data in SQL we noted several columns that appear to have identical data to one another. We will confirm if this is the case."
   ]
  },
  {
   "cell_type": "code",
   "execution_count": 7,
   "metadata": {},
   "outputs": [
    {
     "name": "stdout",
     "output_type": "stream",
     "text": [
      "Number of different values between finishedsquarefeet12 and calculatedfinishedsquarefeet: 13\n",
      "Number of different values between calculatedbathnbr and bathroomcnt: 13\n",
      "Number of different values between fullbathcnt and bathroomcnt: 13\n"
     ]
    }
   ],
   "source": [
    "# comparing each pair of columns we suspected are duplicates\n",
    "# the resulting variables tell us how many rows differ between each\n",
    "sqft_columns_diff = (df.finishedsquarefeet12 != df.calculatedfinishedsquarefeet).sum()\n",
    "bathroom_count_diff = (df.calculatedbathnbr != df.bathroomcnt).sum()\n",
    "bathroom_count_diff_alt = (df.fullbathcnt != df.bathroomcnt).sum()\n",
    "\n",
    "print(f'Number of different values between finishedsquarefeet12 and calculatedfinishedsquarefeet: {sqft_columns_diff}')\n",
    "print(f'Number of different values between calculatedbathnbr and bathroomcnt: {bathroom_count_diff}')\n",
    "print(f'Number of different values between fullbathcnt and bathroomcnt: {bathroom_count_diff_alt}')"
   ]
  },
  {
   "cell_type": "markdown",
   "metadata": {},
   "source": [
    "Dropping the following columns because with the exception of 13 rows, they are duplicates:\n",
    "- finishedsquarefeet12 (near-duplicate of calculatedfinishedsquarefeet)\n",
    "- calculatedbathnbr (near-duplicate of bathroomcnt)\n",
    "- bathroomcnt (near-duplicate of bathroomcnt)"
   ]
  },
  {
   "cell_type": "code",
   "execution_count": 8,
   "metadata": {},
   "outputs": [],
   "source": [
    "# Dropping columns with more than 2000 rows missing\n",
    "df = df.drop(columns=['airconditioningtypeid', 'architecturalstyletypeid', 'basementsqft','yardbuildingsqft26', 'buildingclasstypeid', 'decktypeid', 'finishedfloor1squarefeet', 'finishedsquarefeet13', 'finishedsquarefeet15', 'finishedsquarefeet50', 'finishedsquarefeet6', 'fireplacecnt', 'garagecarcnt', 'garagetotalsqft', 'hashottuborspa', 'poolcnt', 'poolsizesum', 'pooltypeid10', 'pooltypeid2', 'pooltypeid7', 'regionidneighborhood', 'storytypeid', 'threequarterbathnbr', 'typeconstructiontypeid', 'yardbuildingsqft17', 'numberofstories', 'fireplaceflag', 'taxdelinquencyflag', 'taxdelinquencyyear'], axis=1)\n",
    "\n",
    "# Dropping columns with high amount of duplicate values\n",
    "df = df.drop(columns=['finishedsquarefeet12', 'calculatedbathnbr', 'fullbathcnt'], axis=1)\n",
    "\n",
    "# Dropping columns with irrelevant data\n",
    "df = df.drop(columns=['id', 'fips', 'parcelid', 'latitude', 'longitude', 'rawcensustractandblock', 'censustractandblock', 'heatingorsystemtypeid', 'regionidcounty', 'logerror' ], axis=1)\n",
    "\n",
    "# Dropping categorical columns with more than 5 unique values\n",
    "df = df.drop(columns=['propertycountylandusecode', 'propertylandusetypeid','buildingqualitytypeid', 'propertyzoningdesc', 'regionidcity', 'regionidzip', 'yearbuilt', 'transactiondate' ], axis=1)\n",
    "\n",
    "# Dropping columns with only 1 unique value\n",
    "df = df.drop(columns=['roomcnt', 'unitcnt', 'assessmentyear'], axis=1)\n",
    "\n",
    "# Dropping columns that are prohibited from use\n",
    "df = df.drop(columns=['taxamount', 'structuretaxvaluedollarcnt', 'landtaxvaluedollarcnt'], axis=1)"
   ]
  },
  {
   "cell_type": "markdown",
   "metadata": {},
   "source": [
    "- All columns that we specified for removal have been dropped. We'll now take another look at the data with .info for further changes needed."
   ]
  },
  {
   "cell_type": "code",
   "execution_count": 9,
   "metadata": {},
   "outputs": [
    {
     "name": "stdout",
     "output_type": "stream",
     "text": [
      "<class 'pandas.core.frame.DataFrame'>\n",
      "RangeIndex: 13309 entries, 0 to 13308\n",
      "Data columns (total 5 columns):\n",
      " #   Column                        Non-Null Count  Dtype  \n",
      "---  ------                        --------------  -----  \n",
      " 0   bathroomcnt                   13309 non-null  float64\n",
      " 1   bedroomcnt                    13309 non-null  float64\n",
      " 2   calculatedfinishedsquarefeet  13308 non-null  float64\n",
      " 3   lotsizesquarefeet             12976 non-null  float64\n",
      " 4   taxvaluedollarcnt             13309 non-null  float64\n",
      "dtypes: float64(5)\n",
      "memory usage: 520.0 KB\n"
     ]
    }
   ],
   "source": [
    "df.info()"
   ]
  },
  {
   "cell_type": "markdown",
   "metadata": {},
   "source": [
    "We will change the names of our remaining columns to make them easier to understand\n",
    "- Rename bathroomcnt to bathroom_count\n",
    "- Rename bedroomcnt to bedroom_count\n",
    "- Rename calculatedfinishedsquarefeet to unit_sq_feet\n",
    "- Rename lotsizesquarefeet to lot_size_sq_feet\n",
    "- Rename taxvaluedollarcnt to tax_dollar_value\n",
    "\n",
    "lotsizesquarefeet has 333 missing values\n",
    "- Out of 13309 rows, this is less than 3% of the total so we'll remove them along with the one null value row from calculatedfinishedsquarefeet"
   ]
  },
  {
   "cell_type": "code",
   "execution_count": 10,
   "metadata": {},
   "outputs": [
    {
     "data": {
      "text/html": [
       "<div>\n",
       "<style scoped>\n",
       "    .dataframe tbody tr th:only-of-type {\n",
       "        vertical-align: middle;\n",
       "    }\n",
       "\n",
       "    .dataframe tbody tr th {\n",
       "        vertical-align: top;\n",
       "    }\n",
       "\n",
       "    .dataframe thead th {\n",
       "        text-align: right;\n",
       "    }\n",
       "</style>\n",
       "<table border=\"1\" class=\"dataframe\">\n",
       "  <thead>\n",
       "    <tr style=\"text-align: right;\">\n",
       "      <th></th>\n",
       "      <th>bathroomcnt</th>\n",
       "      <th>bedroomcnt</th>\n",
       "      <th>calculatedfinishedsquarefeet</th>\n",
       "      <th>lotsizesquarefeet</th>\n",
       "      <th>taxvaluedollarcnt</th>\n",
       "    </tr>\n",
       "  </thead>\n",
       "  <tbody>\n",
       "    <tr>\n",
       "      <th>0</th>\n",
       "      <td>2.0</td>\n",
       "      <td>3.0</td>\n",
       "      <td>1458.0</td>\n",
       "      <td>8284.0</td>\n",
       "      <td>136104.0</td>\n",
       "    </tr>\n",
       "    <tr>\n",
       "      <th>1</th>\n",
       "      <td>1.0</td>\n",
       "      <td>2.0</td>\n",
       "      <td>1421.0</td>\n",
       "      <td>6707.0</td>\n",
       "      <td>35606.0</td>\n",
       "    </tr>\n",
       "    <tr>\n",
       "      <th>2</th>\n",
       "      <td>2.0</td>\n",
       "      <td>3.0</td>\n",
       "      <td>1650.0</td>\n",
       "      <td>7300.0</td>\n",
       "      <td>614000.0</td>\n",
       "    </tr>\n",
       "    <tr>\n",
       "      <th>3</th>\n",
       "      <td>1.0</td>\n",
       "      <td>2.0</td>\n",
       "      <td>693.0</td>\n",
       "      <td>2908.0</td>\n",
       "      <td>274237.0</td>\n",
       "    </tr>\n",
       "    <tr>\n",
       "      <th>4</th>\n",
       "      <td>1.0</td>\n",
       "      <td>1.0</td>\n",
       "      <td>812.0</td>\n",
       "      <td>93226.0</td>\n",
       "      <td>245906.0</td>\n",
       "    </tr>\n",
       "    <tr>\n",
       "      <th>5</th>\n",
       "      <td>2.0</td>\n",
       "      <td>3.0</td>\n",
       "      <td>1108.0</td>\n",
       "      <td>6050.0</td>\n",
       "      <td>486866.0</td>\n",
       "    </tr>\n",
       "    <tr>\n",
       "      <th>6</th>\n",
       "      <td>2.0</td>\n",
       "      <td>3.0</td>\n",
       "      <td>1947.0</td>\n",
       "      <td>6404.0</td>\n",
       "      <td>388478.0</td>\n",
       "    </tr>\n",
       "    <tr>\n",
       "      <th>7</th>\n",
       "      <td>1.0</td>\n",
       "      <td>2.0</td>\n",
       "      <td>1061.0</td>\n",
       "      <td>4800.0</td>\n",
       "      <td>31839.0</td>\n",
       "    </tr>\n",
       "    <tr>\n",
       "      <th>8</th>\n",
       "      <td>2.0</td>\n",
       "      <td>3.0</td>\n",
       "      <td>1632.0</td>\n",
       "      <td>6040.0</td>\n",
       "      <td>499402.0</td>\n",
       "    </tr>\n",
       "    <tr>\n",
       "      <th>9</th>\n",
       "      <td>3.0</td>\n",
       "      <td>3.0</td>\n",
       "      <td>2768.0</td>\n",
       "      <td>34309.0</td>\n",
       "      <td>151340.0</td>\n",
       "    </tr>\n",
       "  </tbody>\n",
       "</table>\n",
       "</div>"
      ],
      "text/plain": [
       "   bathroomcnt  bedroomcnt  calculatedfinishedsquarefeet  lotsizesquarefeet  \\\n",
       "0          2.0         3.0                        1458.0             8284.0   \n",
       "1          1.0         2.0                        1421.0             6707.0   \n",
       "2          2.0         3.0                        1650.0             7300.0   \n",
       "3          1.0         2.0                         693.0             2908.0   \n",
       "4          1.0         1.0                         812.0            93226.0   \n",
       "5          2.0         3.0                        1108.0             6050.0   \n",
       "6          2.0         3.0                        1947.0             6404.0   \n",
       "7          1.0         2.0                        1061.0             4800.0   \n",
       "8          2.0         3.0                        1632.0             6040.0   \n",
       "9          3.0         3.0                        2768.0            34309.0   \n",
       "\n",
       "   taxvaluedollarcnt  \n",
       "0           136104.0  \n",
       "1            35606.0  \n",
       "2           614000.0  \n",
       "3           274237.0  \n",
       "4           245906.0  \n",
       "5           486866.0  \n",
       "6           388478.0  \n",
       "7            31839.0  \n",
       "8           499402.0  \n",
       "9           151340.0  "
      ]
     },
     "execution_count": 10,
     "metadata": {},
     "output_type": "execute_result"
    }
   ],
   "source": [
    "# using head to examine raw values of columns\n",
    "df.head(10)"
   ]
  },
  {
   "cell_type": "markdown",
   "metadata": {},
   "source": [
    "- No binary values\n",
    "- Various units of measurement (dollars, feet, bedrooms, bathrooms)\n",
    "- All columns contain numerical values\n",
    "\n",
    "For these reasons we will need to scale all of our columns except taxvaluedollarcnt (since it's our target variable and target variables should not be scaled)."
   ]
  },
  {
   "cell_type": "markdown",
   "metadata": {},
   "source": [
    "- We'll now use the function from the prepare.py file we created to prepare the data with the changes documented above so that we can continue into our explore phase."
   ]
  },
  {
   "cell_type": "code",
   "execution_count": 6,
   "metadata": {},
   "outputs": [],
   "source": [
    "# creating data frames that we'll need to progress via prep_zillow function from prepare.py file\n",
    "train, y_train, y_validate, y_test, X_train_scaled, X_train, X_validate, X_test, X_validate_scaled, X_test_scaled = prep_zillow_data('taxvaluedollarcnt')"
   ]
  },
  {
   "cell_type": "code",
   "execution_count": 7,
   "metadata": {},
   "outputs": [
    {
     "data": {
      "text/html": [
       "<div>\n",
       "<style scoped>\n",
       "    .dataframe tbody tr th:only-of-type {\n",
       "        vertical-align: middle;\n",
       "    }\n",
       "\n",
       "    .dataframe tbody tr th {\n",
       "        vertical-align: top;\n",
       "    }\n",
       "\n",
       "    .dataframe thead th {\n",
       "        text-align: right;\n",
       "    }\n",
       "</style>\n",
       "<table border=\"1\" class=\"dataframe\">\n",
       "  <thead>\n",
       "    <tr style=\"text-align: right;\">\n",
       "      <th></th>\n",
       "      <th>unit_sq_feet</th>\n",
       "      <th>bedroom_count</th>\n",
       "      <th>bathroom_count</th>\n",
       "      <th>lot_size_sq_feet</th>\n",
       "    </tr>\n",
       "  </thead>\n",
       "  <tbody>\n",
       "    <tr>\n",
       "      <th>0</th>\n",
       "      <td>0.078248</td>\n",
       "      <td>0.2</td>\n",
       "      <td>0.3</td>\n",
       "      <td>0.003961</td>\n",
       "    </tr>\n",
       "    <tr>\n",
       "      <th>1</th>\n",
       "      <td>0.073514</td>\n",
       "      <td>0.3</td>\n",
       "      <td>0.2</td>\n",
       "      <td>0.002864</td>\n",
       "    </tr>\n",
       "    <tr>\n",
       "      <th>2</th>\n",
       "      <td>0.078117</td>\n",
       "      <td>0.4</td>\n",
       "      <td>0.2</td>\n",
       "      <td>0.003505</td>\n",
       "    </tr>\n",
       "    <tr>\n",
       "      <th>3</th>\n",
       "      <td>0.065952</td>\n",
       "      <td>0.3</td>\n",
       "      <td>0.2</td>\n",
       "      <td>0.002623</td>\n",
       "    </tr>\n",
       "    <tr>\n",
       "      <th>4</th>\n",
       "      <td>0.142688</td>\n",
       "      <td>0.4</td>\n",
       "      <td>0.3</td>\n",
       "      <td>0.006710</td>\n",
       "    </tr>\n",
       "  </tbody>\n",
       "</table>\n",
       "</div>"
      ],
      "text/plain": [
       "   unit_sq_feet  bedroom_count  bathroom_count  lot_size_sq_feet\n",
       "0      0.078248            0.2             0.3          0.003961\n",
       "1      0.073514            0.3             0.2          0.002864\n",
       "2      0.078117            0.4             0.2          0.003505\n",
       "3      0.065952            0.3             0.2          0.002623\n",
       "4      0.142688            0.4             0.3          0.006710"
      ]
     },
     "execution_count": 7,
     "metadata": {},
     "output_type": "execute_result"
    }
   ],
   "source": [
    "# sampling dataframe to confirm function ran successfully\n",
    "X_train_scaled.head()"
   ]
  },
  {
   "cell_type": "markdown",
   "metadata": {},
   "source": [
    "## Prepare Takeaways\n",
    "\n",
    "Removing columns that meet any of the following criterion:\n",
    "- More than 2,000 row missing\n",
    "- Duplicates or near-duplicates of other columns\n",
    "- Contain data that's irrelevant to our project\n",
    "- Categorical with more than 5 unique values\n",
    "- Contain only 1 unique column\n",
    "- Are prohibited from being used per project spefications\n",
    "\n",
    "Rename remaining columns for readability and understanding\n",
    "\n",
    "Drop rows with missing values since this accounts for less than 3% of all rows\n",
    "\n",
    "Scale every non-target variable column. (ie. everything except taxvaluedollarcnt)\n",
    "\n",
    "Split all data into train, validate and test samples\n",
    "\n",
    "All of these changes will be done via the __prep_zillow_data__ function within the __prepare.py__ file deliverable"
   ]
  },
  {
   "cell_type": "markdown",
   "metadata": {},
   "source": [
    "# Explore\n",
    "We will explore our prepped data to identify drivers of property value and relationships between variables.\n",
    "***"
   ]
  },
  {
   "cell_type": "markdown",
   "metadata": {},
   "source": [
    "We begin by creating a heatmap of that includes each of the features we retained from our prep phase:\n",
    "- unit_sq_ft (formerly calculatedfinishedsquarefeet) \n",
    "- bedroom_count (formerly bedroomcnt)                    \n",
    "- bathroom_count (formerly bathroomcnt)\n",
    "- lot_size_sq_ft (formerly lotsizesquarefeet) "
   ]
  },
  {
   "cell_type": "code",
   "execution_count": 13,
   "metadata": {},
   "outputs": [
    {
     "data": {
      "text/plain": [
       "Text(68.09375, 0.5, 'Features')"
      ]
     },
     "execution_count": 13,
     "metadata": {},
     "output_type": "execute_result"
    },
    {
     "data": {
      "image/png": "[encoded data removed]",
      "text/plain": [
       "<Figure size 720x648 with 2 Axes>"
      ]
     },
     "metadata": {
      "needs_background": "light"
     },
     "output_type": "display_data"
    }
   ],
   "source": [
    "# creating copy of train DF to avoid altering the original\n",
    "hmap_train = train.copy()\n",
    "\n",
    "# creating scaler object\n",
    "scaler = sklearn.preprocessing.MinMaxScaler()\n",
    "\n",
    "# fitting scaler to train data\n",
    "scaler.fit(hmap_train)\n",
    "\n",
    "# scaling train data and converting to data frame\n",
    "hmap_train = pd.DataFrame(scaler.transform(hmap_train))\n",
    "\n",
    "# renaming columns as they were erased in the DF conversion\n",
    "hmap_train.rename(columns={0: 'unit_sq_feet', 1: 'bedroom_count', 2: 'bathroom_count', 3: 'lot_size_sq_feet', 4: 'tax_dollar_value' }, inplace=True)\n",
    "\n",
    "# plotting heatmap\n",
    "plt.figure(figsize=(10,9))\n",
    "\n",
    "sns.heatmap(hmap_train.corr(), cmap='Blues', annot=True)\n",
    "plt.ylim(0, 4)\n",
    "plt.title('Tax Dollar Value Heatmap', fontsize = 20)\n",
    "plt.xlabel('Features', fontsize = 15)\n",
    "plt.ylabel('Features', fontsize = 15)"
   ]
  },
  {
   "cell_type": "markdown",
   "metadata": {},
   "source": [
    "- Given their strong tones and coefficients when applied to tax_dollar_value, bathroom_count, bedroom_count and unit_sq_ft all appear to be strong drivers of property value.\n",
    "\n",
    "- Unit_sq_ft, bathroom_count, and bedroom_count also show strong correlation with one another. \n",
    "    - This may be becuase larger propertys tend to have more bathrooms and bedrooms while smaller propertys tend to have less.\n",
    "\n",
    "- Given it's weak coloring an low coefficient, lot_size_sq_feet appears to be a weak drivr of property value.\n",
    "\n",
    "- We will create hypothesis tests and visualizations to further explore each of these features in more depth."
   ]
  },
  {
   "cell_type": "markdown",
   "metadata": {},
   "source": [
    "## Feature: unit_sq_feet\n",
    "\n",
    "### Initial idea: The value of a property is impacted by how large it is. "
   ]
  },
  {
   "cell_type": "code",
   "execution_count": 24,
   "metadata": {},
   "outputs": [
    {
     "data": {
      "text/plain": [
       "Text(0.5, 1.0, 'Property Values Based on Property Size (Sq. Feet)')"
      ]
     },
     "execution_count": 24,
     "metadata": {},
     "output_type": "execute_result"
    },
    {
     "data": {
      "image/png": "[encoded data removed]",
      "text/plain": [
       "<Figure size 864x432 with 1 Axes>"
      ]
     },
     "metadata": {},
     "output_type": "display_data"
    }
   ],
   "source": [
    "sns.set(rc={'figure.figsize':(12,6)})\n",
    "sns.set(font_scale = 2)\n",
    "sns.scatterplot(x='unit_sq_feet',y='tax_dollar_value', data=train).set_title(\"Property Values Based on Property Size (Sq. Feet)\")"
   ]
  },
  {
   "cell_type": "markdown",
   "metadata": {},
   "source": [
    "- The value of a property appears to increase as the size of the property increases.\n",
    "- We will perform a hypothesis test (Pearson Correlation) to confirm if there is a correlation between these values."
   ]
  },
  {
   "cell_type": "markdown",
   "metadata": {},
   "source": [
    "### Test: Pearson Correlation"
   ]
  },
  {
   "cell_type": "markdown",
   "metadata": {},
   "source": [
    "#### Hypothesis:\n",
    "H0 = There is no linear correlation between calculated finished square feet and home value.\n",
    "\n",
    "H1 = There is a linear correlation between calculated finished square feet and home value."
   ]
  },
  {
   "cell_type": "code",
   "execution_count": 15,
   "metadata": {},
   "outputs": [
    {
     "name": "stdout",
     "output_type": "stream",
     "text": [
      "alpha = .05\n",
      "\n",
      "r = 0.59134\n",
      "p = 0.000\n"
     ]
    }
   ],
   "source": [
    "# declaring variables to test for correlation on\n",
    "x = X_train['unit_sq_feet']\n",
    "y = y_train['tax_dollar_value']\n",
    "\n",
    "# performing pearson correlation test\n",
    "r, p = stats.pearsonr(x, y)\n",
    "\n",
    "# printing results\n",
    "print(f'alpha = .05\\n')\n",
    "print(f'r = {r:.5f}')\n",
    "print(f'p = {p:.3f}')"
   ]
  },
  {
   "cell_type": "markdown",
   "metadata": {},
   "source": [
    "- Since p is less than alpha, we reject our null hypothesis that there is no linear relationship between calculated finished square feet and home value.\n",
    "\n",
    "- In other words, there is evidence that the size of a property has an impact on the property's value."
   ]
  },
  {
   "cell_type": "markdown",
   "metadata": {},
   "source": [
    "## Feature: lot_size_sq_feet\n",
    "\n",
    "### Initial idea: The value of a property is impacted bythe size of the lot it is located on. "
   ]
  },
  {
   "cell_type": "code",
   "execution_count": 21,
   "metadata": {},
   "outputs": [
    {
     "data": {
      "text/plain": [
       "Text(0.5, 1.0, 'Property Values Based on Lot Size (Sq. Feet)')"
      ]
     },
     "execution_count": 21,
     "metadata": {},
     "output_type": "execute_result"
    },
    {
     "data": {
      "image/png": "[encoded data removed]",
      "text/plain": [
       "<Figure size 864x432 with 1 Axes>"
      ]
     },
     "metadata": {},
     "output_type": "display_data"
    }
   ],
   "source": [
    "sns.set(rc={'figure.figsize':(12,6)})\n",
    "sns.set(font_scale = 2)\n",
    "plt.rc('xtick',labelsize=18)\n",
    "sns.scatterplot(x='lot_size_sq_feet',y='tax_dollar_value', data=train).set_title('Property Values Based on Lot Size (Sq. Feet)', fontsize = 25)"
   ]
  },
  {
   "cell_type": "markdown",
   "metadata": {},
   "source": [
    "- Most high value properties appear to have small lot sizes\n",
    "    - Perhaps many of the high value properties have small lots but are very tall, thus allowing them to have high square footage with a small lot size\n",
    "- We will perform a hypothesis test (Pearson Correlation) to confirm if there is a correlation between these lot size and property value."
   ]
  },
  {
   "cell_type": "markdown",
   "metadata": {},
   "source": [
    "### Test: Pearson Correlation"
   ]
  },
  {
   "cell_type": "markdown",
   "metadata": {},
   "source": [
    "#### Hypothesis:\n",
    "H0 = There is no linear correlation between lot size and home value.\n",
    "\n",
    "H1 = There is a linear correlation between lot size and home value."
   ]
  },
  {
   "cell_type": "code",
   "execution_count": 17,
   "metadata": {},
   "outputs": [
    {
     "name": "stdout",
     "output_type": "stream",
     "text": [
      "alpha = .05\n",
      "\n",
      "r = -0.03342\n",
      "p = 0.004\n"
     ]
    }
   ],
   "source": [
    "# declaring variables to test for correlation on\n",
    "x = X_train['lot_size_sq_feet']\n",
    "y = y_train['tax_dollar_value']\n",
    "\n",
    "# performing pearson correlation test\n",
    "r, p = stats.pearsonr(x, y)\n",
    "\n",
    "# printing results\n",
    "print(f'alpha = .05\\n')\n",
    "print(f'r = {r:.5f}')\n",
    "print(f'p = {p:.3f}')"
   ]
  },
  {
   "cell_type": "markdown",
   "metadata": {},
   "source": [
    "- Since p is less than alpha, we reject our null hypothesis that there is no linear correlation between bathroom count and home value.\n",
    "\n",
    "- In other words, there is evidence that the size of the lot a property is located on has an impact on the property's value."
   ]
  },
  {
   "cell_type": "markdown",
   "metadata": {},
   "source": [
    "## Feature: bathroom_count \n",
    "\n",
    "### Initial idea: The value of a unit will increase if it has more than the average number of bathrooms. "
   ]
  },
  {
   "cell_type": "code",
   "execution_count": 22,
   "metadata": {},
   "outputs": [
    {
     "data": {
      "image/png": "[encoded data removed]",
      "text/plain": [
       "<Figure size 864x432 with 1 Axes>"
      ]
     },
     "metadata": {},
     "output_type": "display_data"
    }
   ],
   "source": [
    "sns.barplot(x='bathroom_count',y='tax_dollar_value', data=train, ci=None).set_title(\"Property Values Based on Number of Bathrooms\")\n",
    "sns.set(font_scale = 2)"
   ]
  },
  {
   "cell_type": "markdown",
   "metadata": {},
   "source": [
    "- Generally, property value appears to increase as the the number of bathrooms increase\n",
    "- We will calculate the average number of bathrooms per property and then formulate a hypothesis using this data."
   ]
  },
  {
   "cell_type": "markdown",
   "metadata": {},
   "source": [
    "### Test: T-Test"
   ]
  },
  {
   "cell_type": "code",
   "execution_count": 19,
   "metadata": {},
   "outputs": [
    {
     "name": "stdout",
     "output_type": "stream",
     "text": [
      "The average number of bathrooms in a property is 2.\n",
      "\n",
      "We will formulate our hypothesis on the grounds that a property has more than the average number of bathrooms if it has 3 or more.\n"
     ]
    }
   ],
   "source": [
    "# calculating average number of bathrooms per property\n",
    "avg_bathroom_count = round((train.bathroom_count).mean())\n",
    "\n",
    "print(f'The average number of bathrooms in a property is {avg_bathroom_count}.\\n')\n",
    "print(f'We will formulate our hypothesis on the grounds that a property has more than the average number of bathrooms if it has 3 or more.')"
   ]
  },
  {
   "cell_type": "markdown",
   "metadata": {},
   "source": [
    "#### Hypothesis:\n",
    "H0 - The value of units with 3 or more bathrooms is equal to or less than the value of units with 2 or less bathrooms\n",
    "\n",
    "H1 - The value of units with 3 or more bathrooms is greater than the value of units with 2 or less bathrooms."
   ]
  },
  {
   "cell_type": "code",
   "execution_count": 20,
   "metadata": {},
   "outputs": [
    {
     "name": "stdout",
     "output_type": "stream",
     "text": [
      "alpha = .05\n",
      "\n",
      "t = 25.07040\n",
      "p = 2.0955693980555035e-133\n"
     ]
    }
   ],
   "source": [
    "# x1 = df of data for propertys with 3 or more bathrooms\n",
    "# x2 = df of data for propertys with 2 or less bathrooms\n",
    "x1 = train[train.bathroom_count > 2].tax_dollar_value\n",
    "x2 = train[train.bathroom_count <= 2].tax_dollar_value\n",
    "\n",
    "# performing t-test\n",
    "t, p = stats.ttest_ind(x1, x2)\n",
    "\n",
    "# printing results\n",
    "print(f'alpha = .05\\n')\n",
    "print(f't = {t:.5f}')\n",
    "print (f'p = {p / 2}')"
   ]
  },
  {
   "cell_type": "markdown",
   "metadata": {},
   "source": [
    "- Since p is less than alpha and t is greater than 0, we reject our null hypothesis that the value of units with 3 or more bathrooms is equal to or less than the value of units with 2 or less bathrooms.\n",
    "\n",
    "- In other words, there is evidence that bathroom_count is a positive driver of property value."
   ]
  },
  {
   "cell_type": "markdown",
   "metadata": {},
   "source": [
    "## Feature: bedroom_count\n",
    "\n",
    "### Initial idea: The value of a unit will increase if it has more than the average number of bedrooms. "
   ]
  },
  {
   "cell_type": "code",
   "execution_count": 23,
   "metadata": {},
   "outputs": [
    {
     "data": {
      "image/png": "[encoded data removed]",
      "text/plain": [
       "<Figure size 864x432 with 1 Axes>"
      ]
     },
     "metadata": {},
     "output_type": "display_data"
    }
   ],
   "source": [
    "sns.barplot(x='bedroom_count',y='tax_dollar_value', data=train, ci=None).set_title(\"Property Values Based on Number of Bedrooms\")\n",
    "sns.set(font_scale = 2)"
   ]
  },
  {
   "cell_type": "markdown",
   "metadata": {},
   "source": [
    "- Generally, property value appears to increase as the the number of bedrooms increase\n",
    "- We will calculate the average number of bedrooms per property and then formulate a hypothesis using this data."
   ]
  },
  {
   "cell_type": "markdown",
   "metadata": {},
   "source": [
    "### Test: T-Test"
   ]
  },
  {
   "cell_type": "code",
   "execution_count": 22,
   "metadata": {},
   "outputs": [
    {
     "name": "stdout",
     "output_type": "stream",
     "text": [
      "The average number of bedrooms in a property is 3.\n",
      "\n",
      "We will formulate our hypothesis on the grounds that a property has more than the average number of bedrooms if it has 3 or more\n"
     ]
    }
   ],
   "source": [
    "# calculating average number of bedrooms per property\n",
    "avg_bedroom_count = round((train.bedroom_count).mean())\n",
    "\n",
    "print(f'The average number of bedrooms in a property is {avg_bedroom_count}.\\n')\n",
    "print(f'We will formulate our hypothesis on the grounds that a property has more than the average number of bedrooms if it has 3 or more')"
   ]
  },
  {
   "cell_type": "markdown",
   "metadata": {},
   "source": [
    "#### Hypothesis:\n",
    "\n",
    "H0 - The value of units with 3 or more bedrooms is equal to or less than the value of units with 2 or less bedrooms. \n",
    "\n",
    "H1 - The value of units with 3 or more bedrooms is greater than the value of units with less 2 or less bedrooms."
   ]
  },
  {
   "cell_type": "code",
   "execution_count": 23,
   "metadata": {},
   "outputs": [
    {
     "name": "stdout",
     "output_type": "stream",
     "text": [
      "alpha = .05\n",
      "\n",
      "t = 10.06640\n",
      "p = 5.5569806575727444e-24\n"
     ]
    }
   ],
   "source": [
    "# x1 = df of data for propertys with 3 or more bedrooms\n",
    "# x2 = df of data for propertys with 2 or less bedrooms\n",
    "x1 = train[train.bedroom_count > 2].tax_dollar_value\n",
    "x2 = train[train.bedroom_count <= 2].tax_dollar_value\n",
    "\n",
    "# performing ttest\n",
    "t, p = stats.ttest_ind(x1, x2)\n",
    "\n",
    "# printing results\n",
    "print(f'alpha = .05\\n')\n",
    "print(f't = {t:.5f}')\n",
    "print (f'p = {p / 2}')"
   ]
  },
  {
   "cell_type": "markdown",
   "metadata": {},
   "source": [
    "- Since p is less than alpha and t is greater than 0, we reject our null hypothesis that the value of units with 3 or more bedrooms is equal to or less than the value of units with 2 or less bedrooms.\n",
    "\n",
    "- In other words, there is evidence that bedroom_count is a positive driver of property value."
   ]
  },
  {
   "cell_type": "markdown",
   "metadata": {},
   "source": [
    "### Exploration Takeaways\n",
    "\n",
    "- Heatmap of all features shows the following features are strongly correlated with property value:\n",
    "    - bathroom_count\n",
    "    - bedroom_count\n",
    "    - unit_sq_ft\n",
    "    \n",
    "    \n",
    "- Although lot_size_sq_ft, may not have as strong of a correlation with property value, we will still create a model with it to observe its effectiveness as a predictive feature.\n",
    "\n",
    "\n",
    "- T-Tests suggest that having more than the average number of bathrooms or bedrooms in a property increases its value\n",
    "\n",
    "\n",
    "- Pearson Correlation tests suggest that the size of a property and the lot it's located on have an impact on its value"
   ]
  },
  {
   "cell_type": "markdown",
   "metadata": {},
   "source": [
    "# Modeling\n",
    "We use these variables that we believe strongly correlate with churn to create a model that will allow us to predict churn\n",
    "***"
   ]
  },
  {
   "cell_type": "markdown",
   "metadata": {},
   "source": [
    "## Baseline\n",
    "We'll now construct a baseline and gauge its accuracy to determine what accuracy an alternate model would need in order to be viable."
   ]
  },
  {
   "cell_type": "code",
   "execution_count": 24,
   "metadata": {},
   "outputs": [
    {
     "data": {
      "text/html": [
       "<div>\n",
       "<style scoped>\n",
       "    .dataframe tbody tr th:only-of-type {\n",
       "        vertical-align: middle;\n",
       "    }\n",
       "\n",
       "    .dataframe tbody tr th {\n",
       "        vertical-align: top;\n",
       "    }\n",
       "\n",
       "    .dataframe thead th {\n",
       "        text-align: right;\n",
       "    }\n",
       "</style>\n",
       "<table border=\"1\" class=\"dataframe\">\n",
       "  <thead>\n",
       "    <tr style=\"text-align: right;\">\n",
       "      <th></th>\n",
       "      <th>tax_dollar_value</th>\n",
       "      <th>baseline_prediction</th>\n",
       "    </tr>\n",
       "  </thead>\n",
       "  <tbody>\n",
       "    <tr>\n",
       "      <th>6531</th>\n",
       "      <td>209099.0</td>\n",
       "      <td>475181.64038</td>\n",
       "    </tr>\n",
       "    <tr>\n",
       "      <th>6057</th>\n",
       "      <td>271949.0</td>\n",
       "      <td>475181.64038</td>\n",
       "    </tr>\n",
       "    <tr>\n",
       "      <th>2580</th>\n",
       "      <td>250933.0</td>\n",
       "      <td>475181.64038</td>\n",
       "    </tr>\n",
       "    <tr>\n",
       "      <th>5490</th>\n",
       "      <td>236264.0</td>\n",
       "      <td>475181.64038</td>\n",
       "    </tr>\n",
       "    <tr>\n",
       "      <th>1229</th>\n",
       "      <td>818000.0</td>\n",
       "      <td>475181.64038</td>\n",
       "    </tr>\n",
       "  </tbody>\n",
       "</table>\n",
       "</div>"
      ],
      "text/plain": [
       "      tax_dollar_value  baseline_prediction\n",
       "6531          209099.0         475181.64038\n",
       "6057          271949.0         475181.64038\n",
       "2580          250933.0         475181.64038\n",
       "5490          236264.0         475181.64038\n",
       "1229          818000.0         475181.64038"
      ]
     },
     "execution_count": 24,
     "metadata": {},
     "output_type": "execute_result"
    }
   ],
   "source": [
    "# making a copy of train data so we can add a baseline column without changing original train DF\n",
    "y_train_bl = y_train.copy()\n",
    "\n",
    "# adding baseline_prediction column that holds the mean of property tax values\n",
    "y_train_bl['baseline_prediction'] = y_train['tax_dollar_value'].mean()\n",
    "\n",
    "y_train_bl.head()"
   ]
  },
  {
   "cell_type": "code",
   "execution_count": 25,
   "metadata": {},
   "outputs": [
    {
     "name": "stdout",
     "output_type": "stream",
     "text": [
      "Baseline Root mean squared error: 698688.0\n"
     ]
    }
   ],
   "source": [
    "RMSE_bl = np.sqrt(mean_squared_error(y_train.tax_dollar_value, y_train_bl.baseline_prediction))\n",
    "print(\"Baseline Root mean squared error: {:.100}\".format(round(RMSE_bl)))"
   ]
  },
  {
   "cell_type": "markdown",
   "metadata": {},
   "source": [
    "- Our baseline's RMSE value is 698,688. We'll need to construct at least one model that can attain a RMSE value lower than this."
   ]
  },
  {
   "cell_type": "markdown",
   "metadata": {},
   "source": [
    "## Feature Engineering\n",
    "We'll be using Recursive Feature Elimination to rank each of our features in terms of their viability in predicting property value."
   ]
  },
  {
   "cell_type": "code",
   "execution_count": 26,
   "metadata": {},
   "outputs": [
    {
     "data": {
      "text/html": [
       "<div>\n",
       "<style scoped>\n",
       "    .dataframe tbody tr th:only-of-type {\n",
       "        vertical-align: middle;\n",
       "    }\n",
       "\n",
       "    .dataframe tbody tr th {\n",
       "        vertical-align: top;\n",
       "    }\n",
       "\n",
       "    .dataframe thead th {\n",
       "        text-align: right;\n",
       "    }\n",
       "</style>\n",
       "<table border=\"1\" class=\"dataframe\">\n",
       "  <thead>\n",
       "    <tr style=\"text-align: right;\">\n",
       "      <th></th>\n",
       "      <th>Var</th>\n",
       "      <th>Rank</th>\n",
       "    </tr>\n",
       "  </thead>\n",
       "  <tbody>\n",
       "    <tr>\n",
       "      <th>2</th>\n",
       "      <td>bathroom_count</td>\n",
       "      <td>1</td>\n",
       "    </tr>\n",
       "    <tr>\n",
       "      <th>1</th>\n",
       "      <td>bedroom_count</td>\n",
       "      <td>2</td>\n",
       "    </tr>\n",
       "    <tr>\n",
       "      <th>0</th>\n",
       "      <td>unit_sq_feet</td>\n",
       "      <td>3</td>\n",
       "    </tr>\n",
       "    <tr>\n",
       "      <th>3</th>\n",
       "      <td>lot_size_sq_feet</td>\n",
       "      <td>4</td>\n",
       "    </tr>\n",
       "  </tbody>\n",
       "</table>\n",
       "</div>"
      ],
      "text/plain": [
       "                Var  Rank\n",
       "2    bathroom_count     1\n",
       "1     bedroom_count     2\n",
       "0      unit_sq_feet     3\n",
       "3  lot_size_sq_feet     4"
      ]
     },
     "execution_count": 26,
     "metadata": {},
     "output_type": "execute_result"
    }
   ],
   "source": [
    "# creating linear regression object\n",
    "lm = LinearRegression()\n",
    "\n",
    "# creating RFE object that will use our linear regression object and only pick only the single best feature\n",
    "rfe = RFE(lm, 1)\n",
    "\n",
    "# transforming data using rfe object\n",
    "x_rfe = rfe.fit_transform(X_train, y_train)\n",
    "\n",
    "# fitting our linear regression model to data\n",
    "lm.fit(X_train, y_train)\n",
    "\n",
    "# storing array of boolean values that reflect true if a feature was one of the three selected\n",
    "# false otherwise\n",
    "mask = rfe.support_\n",
    "\n",
    "# creating list of the top feature using boolean mask\n",
    "rfe_features = X_train.loc[:,mask].columns.tolist()\n",
    "\n",
    "# creating array of ranking list\n",
    "var_ranks = rfe.ranking_\n",
    "\n",
    "# creating list of feature names\n",
    "var_names = X_train_scaled.columns.tolist()\n",
    "\n",
    "# combine ranks and names into a df\n",
    "rfe_ranks_df = pd.DataFrame({'Var': var_names, 'Rank': var_ranks})\n",
    "\n",
    "# sort the df by rank\n",
    "rfe_ranks_df.sort_values('Rank')"
   ]
  },
  {
   "cell_type": "markdown",
   "metadata": {},
   "source": [
    "- RFE shows that bathroom_count is the most useful feature for predicting property value.\n",
    "- bedroom_count is second\n",
    "- unit_sq_feet is third\n",
    "- lot_size_sq_feet is last"
   ]
  },
  {
   "cell_type": "markdown",
   "metadata": {},
   "source": [
    "## Non-Baseline Models (Training)"
   ]
  },
  {
   "cell_type": "markdown",
   "metadata": {},
   "source": [
    "### Name: Model 1\n",
    "\n",
    "Type: Linear Regression Model\n",
    "\n",
    "Features:\n",
    "- bathroom_count\n",
    "- bedroom_count\n",
    "- unit_sq_feet\n",
    "- lot_size_sq_feet\n",
    "\n",
    "Detail: None"
   ]
  },
  {
   "cell_type": "code",
   "execution_count": 27,
   "metadata": {},
   "outputs": [
    {
     "name": "stdout",
     "output_type": "stream",
     "text": [
      "Model 1s RMSE value when predicting property values on the train data set is 551421.0\n"
     ]
    }
   ],
   "source": [
    "# copying df to avoid changing original when we add predictions column\n",
    "y_train_m1 = y_train.copy()\n",
    "\n",
    "# creating linear regression object\n",
    "lm_1 = LinearRegression()\n",
    "\n",
    "# fitting model to data\n",
    "lm_1.fit(X_train_scaled, y_train_m1)\n",
    "\n",
    "# adding column to model 1 train that holds model 1 predictions of property value\n",
    "y_train_m1['model_1_prediction'] = lm_1.predict(X_train_scaled)\n",
    "\n",
    "# calculating RMSE value of model 1 on train data\n",
    "RMSE_lm_m1 = round(np.sqrt(mean_squared_error(y_train.tax_dollar_value, y_train_m1.model_1_prediction)))\n",
    "\n",
    "# printing results\n",
    "print(f'Model 1s RMSE value when predicting property values on the train data set is {RMSE_lm_m1}')"
   ]
  },
  {
   "cell_type": "markdown",
   "metadata": {},
   "source": [
    "### Name: Model 2\n",
    "\n",
    "Type: Linear Regression Model\n",
    "\n",
    "Features:\n",
    "- bathroom_count\n",
    "- bedroom_count\n",
    "- unit_sq_feet\n",
    "\n",
    "Detail: Removing least most important feature according to RFE ranking (lot_size_sq_feet)"
   ]
  },
  {
   "cell_type": "code",
   "execution_count": 28,
   "metadata": {},
   "outputs": [
    {
     "name": "stdout",
     "output_type": "stream",
     "text": [
      "Model 2s RMSE value when predicting property values on the train data set is 551490.0\n"
     ]
    }
   ],
   "source": [
    "# copying df to avoid changing original when we add predictions column\n",
    "y_train_m2 = y_train.copy()\n",
    "\n",
    "# creating linear regression object\n",
    "lm_2 = LinearRegression()\n",
    "\n",
    "# fitting model to data\n",
    "lm_2.fit(X_train_scaled[['bathroom_count', 'bedroom_count', 'unit_sq_feet']], y_train_m2)\n",
    "\n",
    "# adding column to model 2 train that holds model 2 predictions of property value\n",
    "y_train_m2['model_1_prediction'] = lm_2.predict(X_train_scaled[['bathroom_count', 'bedroom_count', 'unit_sq_feet']])\n",
    "\n",
    "# calculating RMSE value of model 2 on train data\n",
    "RMSE_lm_m2 = round(np.sqrt(mean_squared_error(y_train.tax_dollar_value, y_train_m2.model_1_prediction)))\n",
    "\n",
    "# printing results\n",
    "print(f'Model 2s RMSE value when predicting property values on the train data set is {RMSE_lm_m2}')"
   ]
  },
  {
   "cell_type": "markdown",
   "metadata": {},
   "source": [
    "### Name: Model 3\n",
    "\n",
    "Type: Linear Regression Model\n",
    "\n",
    "Features:\n",
    "- bathroom_count\n",
    "- bedroom_count\n",
    "\n",
    "Detail: Removing 2 least most important features according to RFE ranking (lot_size_sq_feet and unit_sq_feet)"
   ]
  },
  {
   "cell_type": "code",
   "execution_count": 29,
   "metadata": {},
   "outputs": [
    {
     "name": "stdout",
     "output_type": "stream",
     "text": [
      "Model 3s RMSE value when predicting property values on the train data set is 622158.0\n"
     ]
    }
   ],
   "source": [
    "# copying df to avoid changing original when we add predictions column\n",
    "y_train_m3 = y_train.copy()\n",
    "\n",
    "# creating linear regression object\n",
    "lm_3 = LinearRegression()\n",
    "\n",
    "# fitting model to data\n",
    "lm_3.fit(X_train_scaled[['bathroom_count', 'bedroom_count']], y_train_m3)\n",
    "\n",
    "# adding column to model 3 train that holds model 3 predictions of property value\n",
    "y_train_m3['model_1_prediction'] = lm_3.predict(X_train_scaled[['bathroom_count', 'bedroom_count']])\n",
    "\n",
    "# calculating RMSE value of model 3 on train data\n",
    "RMSE_lm_m3 = round(np.sqrt(mean_squared_error(y_train.tax_dollar_value, y_train_m3.model_1_prediction)))\n",
    "\n",
    "# printing results\n",
    "print(f'Model 3s RMSE value when predicting property values on the train data set is {RMSE_lm_m3}')"
   ]
  },
  {
   "cell_type": "markdown",
   "metadata": {},
   "source": [
    "- Baseline RMSE: 698688\n",
    "\n",
    "- Model 1 RMSE: 551421\n",
    "\n",
    "- Model 2 RMSE: 551490\n",
    "\n",
    "- Model 3 RMSE: 622158\n",
    "\n",
    "- Models 1 and 2 had the best (lowest) RMSE values so we will be using them to predict values in the validate sample."
   ]
  },
  {
   "cell_type": "markdown",
   "metadata": {},
   "source": [
    "## Non-Baseline Models (Validation)"
   ]
  },
  {
   "cell_type": "code",
   "execution_count": 30,
   "metadata": {},
   "outputs": [
    {
     "name": "stdout",
     "output_type": "stream",
     "text": [
      "Model 1s RMSE value when predicting property values on the train data set is 674204.0\n"
     ]
    }
   ],
   "source": [
    "# creating copy of y_validate DF to avoid altering the original when we add our predictions column\n",
    "y_validate_m1 = y_validate.copy()\n",
    "\n",
    "# adding column to model 1 train that holds model 1 predictions of property value\n",
    "y_validate_m1['model_1_prediction'] = lm_1.predict(X_validate_scaled)\n",
    "\n",
    "# calculating RMSE value of model 1 on validate data\n",
    "RMSE_lm_m1_val = round(np.sqrt(mean_squared_error(y_validate.tax_dollar_value, y_validate_m1.model_1_prediction)))\n",
    "\n",
    "# printing results\n",
    "print(f'Model 1s RMSE value when predicting property values on the train data set is {RMSE_lm_m1_val}')"
   ]
  },
  {
   "cell_type": "code",
   "execution_count": 31,
   "metadata": {},
   "outputs": [
    {
     "name": "stdout",
     "output_type": "stream",
     "text": [
      "Model 2s RMSE value when predicting property values on the train data set is 674829.0\n"
     ]
    }
   ],
   "source": [
    "# creating copy of y_validate DF to avoid altering the original when we add our predictions column\n",
    "y_validate_m2 = y_validate.copy()\n",
    "\n",
    "# adding column to model 2 train that holds model 2 predictions of property value\n",
    "y_validate_m2['model_2_prediction'] = lm_2.predict(X_validate_scaled[['bathroom_count', 'bedroom_count', 'unit_sq_feet']])\n",
    "\n",
    "# calculating RMSE value of model 2 on validate data\n",
    "RMSE_lm_m2_val = round(np.sqrt(mean_squared_error(y_validate.tax_dollar_value, y_validate_m2.model_2_prediction)))\n",
    "\n",
    "# printing results\n",
    "print(f'Model 2s RMSE value when predicting property values on the train data set is {RMSE_lm_m2_val}')"
   ]
  },
  {
   "cell_type": "markdown",
   "metadata": {},
   "source": [
    "- Model 1 RMSE: 674204\n",
    "\n",
    "- Model 2 RMSE: 674829\n",
    "\n",
    "- Models 1 had the best (lowest) RMSE value so we will be using it to predict values in the test sample."
   ]
  },
  {
   "cell_type": "markdown",
   "metadata": {},
   "source": [
    "## Non-Baseline Model (Test)"
   ]
  },
  {
   "cell_type": "code",
   "execution_count": 32,
   "metadata": {},
   "outputs": [
    {
     "name": "stdout",
     "output_type": "stream",
     "text": [
      "Model 1s RMSE value when predicting property values on the train data set is 558304.0\n"
     ]
    }
   ],
   "source": [
    "# creating copy of y_test DF to avoid altering the original when we add our predictions column\n",
    "y_test_m1 = y_test.copy()\n",
    "\n",
    "# adding column to model 1 train that holds model 1 predictions of property value\n",
    "y_test_m1['model_1_prediction'] = lm_1.predict(X_test_scaled)\n",
    "\n",
    "# calculating RMSE value of model 1 on validate data\n",
    "RMSE_lm_m1_test = round(np.sqrt(mean_squared_error(y_test.tax_dollar_value, y_test_m1.model_1_prediction)))\n",
    "\n",
    "# printing results\n",
    "print(f'Model 1s RMSE value when predicting property values on the train data set is {RMSE_lm_m1_test}')"
   ]
  },
  {
   "cell_type": "markdown",
   "metadata": {},
   "source": [
    "- Model 1 RMSE value (Train): 551421\n",
    "- Model 1 RMSE value (Validate): 674204\n",
    "- Model 1 RMSE value (Test): 558304"
   ]
  },
  {
   "cell_type": "markdown",
   "metadata": {},
   "source": [
    "## Modeling Takeaways   \n",
    "- Model 1's performance (RMSE value) on the test data set was much better than its performance on the validation data set and very close to its performance on the train data set.\n",
    "\n",
    "\n",
    "- Since Model 1's performance on all 3 datasets is superior to the baseline's performance, it is safe to say that that model 1 should be used instead of the baseline to predict property values.\n",
    "\n",
    "\n",
    "- Model 1 used all 4 of our features from our exploration phase and performed better than any model that used less features. \n",
    "    - This is further evidence that each of those features (bathroom_count, bedroom_count, unit_sq_feet, lot_size_sq_feet) are drivers of property value."
   ]
  },
  {
   "cell_type": "markdown",
   "metadata": {},
   "source": [
    "# Overall Conclusion and Takeaways"
   ]
  },
  {
   "cell_type": "markdown",
   "metadata": {},
   "source": [
    "Through exploration we discovered that drivers of property value include bathroom_count, bedroom_count, unit_sq_feet, and lot_size_sq_fee.\n",
    "- Although lot_size was thought to possibly be a weak driver initially, our models performed worse without it.\n",
    "    - Similarly, our hypothesis test showed lot_size_sq_feet has a linear relationship with property value (tax_dollar_value).\n",
    "\n",
    "Recursive Feature Elimination ranked the importance of each feature in predicting value as follows:\n",
    "\n",
    "    1)bathroom_count\n",
    "    2)bedroom_count\n",
    "    3)unit_sq_feet\n",
    "    4)lot_size_sq_feet\n",
    "\n",
    "Recommendations\n",
    "- When assessing the value of properties, we should focus our attention on these drivers to help improve the accuracy of our value assessments.\n",
    "- We should also display these features more prominently in our search result thumbnails as currently the font is relatively small.\n",
    "\n",
    "We've created a linear regression model that uses these variables to predict property values.\n",
    "- The model outperformed a baseline model that constantly predicts the mean value of homes\n",
    "- The model's RMSE value on all data sets was consistently lower than all of its competitors \n",
    "- In one instance, the model only performed nearly as well on data it had never seen before (test) than it did on the data it was trained on (train). \n",
    "\n",
    "In the future\n",
    "- We'd like to collect a wider range of data since many of the features in our dataset contained a high amount of null values and had to be excluded from our project.\n",
    "    - With more features available, we may be able to incorporate new ones that improve our model's ability to make accurate predictions on property values."
   ]
  },
  {
   "cell_type": "code",
   "execution_count": null,
   "metadata": {},
   "outputs": [],
   "source": []
  }
 ],
 "metadata": {
  "kernelspec": {
   "display_name": "Python 3",
   "language": "python",
   "name": "python3"
  },
  "language_info": {
   "codemirror_mode": {
    "name": "ipython",
    "version": 3
   },
   "file_extension": ".py",
   "mimetype": "text/x-python",
   "name": "python",
   "nbconvert_exporter": "python",
   "pygments_lexer": "ipython3",
   "version": "3.7.6"
  }
 },
 "nbformat": 4,
 "nbformat_minor": 4
}
