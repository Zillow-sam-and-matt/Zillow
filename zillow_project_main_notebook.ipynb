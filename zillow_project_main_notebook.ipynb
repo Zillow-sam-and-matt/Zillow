{
 "cells": [
  {
   "cell_type": "markdown",
   "metadata": {},
   "source": [
    "# Single Unit Properties at Zillow: Predicting Values and Identifying Drivers\n",
    "***\n",
    "***"
   ]
  },
  {
   "cell_type": "markdown",
   "metadata": {},
   "source": [
    "# Goals\n",
    "\n",
    "This project has two goals\n",
    "- Identify variables that have a strong impact on the values of single unit properties that the tax district assesses\n",
    "- Create a model that will accurately predict the values of single unit properties that the tax district assesses\n",
    "\n",
    "We will also be providing a presentation that summarizes the findings of this project (link to presentation slides below).\n",
    "\n",
    "https://docs.google.com/presentation/d/16aubNotM82Ej5DSp-u9sU1O6pjYjxIoKPAfXCNA3hpo/edit?usp=sharing"
   ]
  },
  {
   "cell_type": "code",
   "execution_count": 1,
   "metadata": {},
   "outputs": [],
   "source": [
    "# Establishing environment\n",
    "import pandas as pd\n",
    "import numpy as np\n",
    "import scipy.stats as stats\n",
    "import matplotlib.pyplot as plt\n",
    "import seaborn as sns\n",
    "import sklearn\n",
    "\n",
    "from env import host, user, password\n",
    "from sklearn.model_selection import train_test_split\n",
    "from sklearn.metrics import mean_squared_error\n",
    "from sklearn.linear_model import LinearRegression\n",
    "from sklearn.preprocessing import MinMaxScaler\n",
    "from sklearn.feature_selection import SelectKBest, RFE\n",
    "from acquire import get_zillow_data\n",
    "from prepare import prep_zillow_data\n",
    "\n",
    "import warnings\n",
    "warnings.filterwarnings(\"ignore\")"
   ]
  },
  {
   "cell_type": "markdown",
   "metadata": {},
   "source": [
    "# Acquire\n",
    "Acquire data from the customers table from the zillow database on the codeup data science database server.\n",
    "\n",
    "\n",
    "We will also be taking the functions from this phase and creating an __acquire.py__ file so our work can be easily replicated.\n",
    "***"
   ]
  },
  {
   "cell_type": "markdown",
   "metadata": {},
   "source": [
    "### Using get_zillow_data (acquire.py) function to acquire data from zillow SQL database"
   ]
  },
  {
   "cell_type": "code",
   "execution_count": 2,
   "metadata": {},
   "outputs": [
    {
     "data": {
      "text/html": [
       "<div>\n",
       "<style scoped>\n",
       "    .dataframe tbody tr th:only-of-type {\n",
       "        vertical-align: middle;\n",
       "    }\n",
       "\n",
       "    .dataframe tbody tr th {\n",
       "        vertical-align: top;\n",
       "    }\n",
       "\n",
       "    .dataframe thead th {\n",
       "        text-align: right;\n",
       "    }\n",
       "</style>\n",
       "<table border=\"1\" class=\"dataframe\">\n",
       "  <thead>\n",
       "    <tr style=\"text-align: right;\">\n",
       "      <th></th>\n",
       "      <th>id</th>\n",
       "      <th>parcelid</th>\n",
       "      <th>airconditioningtypeid</th>\n",
       "      <th>architecturalstyletypeid</th>\n",
       "      <th>basementsqft</th>\n",
       "      <th>bathroomcnt</th>\n",
       "      <th>bedroomcnt</th>\n",
       "      <th>buildingclasstypeid</th>\n",
       "      <th>buildingqualitytypeid</th>\n",
       "      <th>calculatedbathnbr</th>\n",
       "      <th>...</th>\n",
       "      <th>assessmentyear</th>\n",
       "      <th>landtaxvaluedollarcnt</th>\n",
       "      <th>taxamount</th>\n",
       "      <th>taxdelinquencyflag</th>\n",
       "      <th>taxdelinquencyyear</th>\n",
       "      <th>censustractandblock</th>\n",
       "      <th>id</th>\n",
       "      <th>parcelid</th>\n",
       "      <th>logerror</th>\n",
       "      <th>transactiondate</th>\n",
       "    </tr>\n",
       "  </thead>\n",
       "  <tbody>\n",
       "    <tr>\n",
       "      <th>0</th>\n",
       "      <td>2061546</td>\n",
       "      <td>11289917</td>\n",
       "      <td>1.0</td>\n",
       "      <td>None</td>\n",
       "      <td>None</td>\n",
       "      <td>2.0</td>\n",
       "      <td>3.0</td>\n",
       "      <td>NaN</td>\n",
       "      <td>6.0</td>\n",
       "      <td>2.0</td>\n",
       "      <td>...</td>\n",
       "      <td>2016.0</td>\n",
       "      <td>27214.0</td>\n",
       "      <td>2319.90</td>\n",
       "      <td>Y</td>\n",
       "      <td>15.0</td>\n",
       "      <td>6.037901e+13</td>\n",
       "      <td>1248</td>\n",
       "      <td>11289917</td>\n",
       "      <td>-0.362001</td>\n",
       "      <td>2017-06-23</td>\n",
       "    </tr>\n",
       "    <tr>\n",
       "      <th>1</th>\n",
       "      <td>1834372</td>\n",
       "      <td>11705026</td>\n",
       "      <td>NaN</td>\n",
       "      <td>None</td>\n",
       "      <td>None</td>\n",
       "      <td>1.0</td>\n",
       "      <td>2.0</td>\n",
       "      <td>NaN</td>\n",
       "      <td>6.0</td>\n",
       "      <td>1.0</td>\n",
       "      <td>...</td>\n",
       "      <td>2016.0</td>\n",
       "      <td>23624.0</td>\n",
       "      <td>543.69</td>\n",
       "      <td>None</td>\n",
       "      <td>NaN</td>\n",
       "      <td>6.037232e+13</td>\n",
       "      <td>1772</td>\n",
       "      <td>11705026</td>\n",
       "      <td>-0.146056</td>\n",
       "      <td>2017-06-30</td>\n",
       "    </tr>\n",
       "    <tr>\n",
       "      <th>2</th>\n",
       "      <td>2121349</td>\n",
       "      <td>11389003</td>\n",
       "      <td>NaN</td>\n",
       "      <td>None</td>\n",
       "      <td>None</td>\n",
       "      <td>2.0</td>\n",
       "      <td>3.0</td>\n",
       "      <td>NaN</td>\n",
       "      <td>6.0</td>\n",
       "      <td>2.0</td>\n",
       "      <td>...</td>\n",
       "      <td>2016.0</td>\n",
       "      <td>449000.0</td>\n",
       "      <td>7673.19</td>\n",
       "      <td>None</td>\n",
       "      <td>NaN</td>\n",
       "      <td>6.037703e+13</td>\n",
       "      <td>3273</td>\n",
       "      <td>11389003</td>\n",
       "      <td>-0.325393</td>\n",
       "      <td>2017-06-01</td>\n",
       "    </tr>\n",
       "    <tr>\n",
       "      <th>3</th>\n",
       "      <td>2093710</td>\n",
       "      <td>11967869</td>\n",
       "      <td>NaN</td>\n",
       "      <td>None</td>\n",
       "      <td>None</td>\n",
       "      <td>1.0</td>\n",
       "      <td>2.0</td>\n",
       "      <td>NaN</td>\n",
       "      <td>5.0</td>\n",
       "      <td>1.0</td>\n",
       "      <td>...</td>\n",
       "      <td>2016.0</td>\n",
       "      <td>191821.0</td>\n",
       "      <td>3267.47</td>\n",
       "      <td>None</td>\n",
       "      <td>NaN</td>\n",
       "      <td>6.037185e+13</td>\n",
       "      <td>3429</td>\n",
       "      <td>11967869</td>\n",
       "      <td>-0.005566</td>\n",
       "      <td>2017-06-29</td>\n",
       "    </tr>\n",
       "    <tr>\n",
       "      <th>4</th>\n",
       "      <td>1288537</td>\n",
       "      <td>12035176</td>\n",
       "      <td>NaN</td>\n",
       "      <td>None</td>\n",
       "      <td>None</td>\n",
       "      <td>1.0</td>\n",
       "      <td>1.0</td>\n",
       "      <td>NaN</td>\n",
       "      <td>11.0</td>\n",
       "      <td>1.0</td>\n",
       "      <td>...</td>\n",
       "      <td>2016.0</td>\n",
       "      <td>146810.0</td>\n",
       "      <td>2926.19</td>\n",
       "      <td>None</td>\n",
       "      <td>NaN</td>\n",
       "      <td>6.037189e+13</td>\n",
       "      <td>5444</td>\n",
       "      <td>12035176</td>\n",
       "      <td>-0.114435</td>\n",
       "      <td>2017-05-24</td>\n",
       "    </tr>\n",
       "  </tbody>\n",
       "</table>\n",
       "<p>5 rows × 63 columns</p>\n",
       "</div>"
      ],
      "text/plain": [
       "        id  parcelid  airconditioningtypeid architecturalstyletypeid  \\\n",
       "0  2061546  11289917                    1.0                     None   \n",
       "1  1834372  11705026                    NaN                     None   \n",
       "2  2121349  11389003                    NaN                     None   \n",
       "3  2093710  11967869                    NaN                     None   \n",
       "4  1288537  12035176                    NaN                     None   \n",
       "\n",
       "  basementsqft  bathroomcnt  bedroomcnt  buildingclasstypeid  \\\n",
       "0         None          2.0         3.0                  NaN   \n",
       "1         None          1.0         2.0                  NaN   \n",
       "2         None          2.0         3.0                  NaN   \n",
       "3         None          1.0         2.0                  NaN   \n",
       "4         None          1.0         1.0                  NaN   \n",
       "\n",
       "   buildingqualitytypeid  calculatedbathnbr  ... assessmentyear  \\\n",
       "0                    6.0                2.0  ...         2016.0   \n",
       "1                    6.0                1.0  ...         2016.0   \n",
       "2                    6.0                2.0  ...         2016.0   \n",
       "3                    5.0                1.0  ...         2016.0   \n",
       "4                   11.0                1.0  ...         2016.0   \n",
       "\n",
       "  landtaxvaluedollarcnt  taxamount  taxdelinquencyflag taxdelinquencyyear  \\\n",
       "0               27214.0    2319.90                   Y               15.0   \n",
       "1               23624.0     543.69                None                NaN   \n",
       "2              449000.0    7673.19                None                NaN   \n",
       "3              191821.0    3267.47                None                NaN   \n",
       "4              146810.0    2926.19                None                NaN   \n",
       "\n",
       "   censustractandblock    id  parcelid  logerror transactiondate  \n",
       "0         6.037901e+13  1248  11289917 -0.362001      2017-06-23  \n",
       "1         6.037232e+13  1772  11705026 -0.146056      2017-06-30  \n",
       "2         6.037703e+13  3273  11389003 -0.325393      2017-06-01  \n",
       "3         6.037185e+13  3429  11967869 -0.005566      2017-06-29  \n",
       "4         6.037189e+13  5444  12035176 -0.114435      2017-05-24  \n",
       "\n",
       "[5 rows x 63 columns]"
      ]
     },
     "execution_count": 2,
     "metadata": {},
     "output_type": "execute_result"
    }
   ],
   "source": [
    "# creating dataframe using data acquired from function\n",
    "df = get_zillow_data()\n",
    "\n",
    "# previewing data to ensure function operates correctly\n",
    "df.head()"
   ]
  },
  {
   "cell_type": "markdown",
   "metadata": {},
   "source": [
    "### Acquire Takeaways\n",
    "\n",
    "- Acquiring data from zillow database on the codeup data science database server via the __get_zillow_data__ function\n",
    "- The function is available in the __acquire.py__ file deliverable"
   ]
  },
  {
   "cell_type": "markdown",
   "metadata": {},
   "source": [
    "# Prepare\n",
    "\n",
    "After throughouly examining the data, we created a list of changes that would need to be made in order to prepare the data for exploration.\n",
    "\n",
    "The list of changes is located in the __Prepare Takeaways__ section below and __prep_zillow_data__ (prepare.py) function will carry out those changes in the cell below.\n",
    "***"
   ]
  },
  {
   "cell_type": "code",
   "execution_count": 3,
   "metadata": {},
   "outputs": [],
   "source": [
    "# preparing data with changes outlined in takeaways below\n",
    "train, y_train, y_validate, y_test, X_train_scaled, X_train, X_validate, X_test, X_validate_scaled, X_test_scaled\\\n",
    "= prep_zillow_data(df)"
   ]
  },
  {
   "cell_type": "markdown",
   "metadata": {},
   "source": [
    "## Prepare Takeaways\n",
    "- No duplicate rows found in data set\n",
    "    - Each row should have a unique ID at minimum so any duplicate rows would have been erroneous and removed as a result\n",
    "    \n",
    "- Removing columns that meet any of the following criterion:\n",
    "    - More than 2,000 row missing\n",
    "    - Duplicates or near-duplicates of other columns\n",
    "    - Contain data that's irrelevant to our project\n",
    "    - Categorical with more than 5 unique values\n",
    "    - Contain only 1 unique column\n",
    "    - Are prohibited from being used per project spefications\n",
    "\n",
    "- Rename remaining columns for readability and understanding\n",
    "\n",
    "- Chosen columns all have appropriate data types so we won't need to change them\n",
    "\n",
    "- Drop rows with missing values since this accounts for less than 3% of all rows\n",
    "\n",
    "- Scale every non-target variable column. (ie. everything except taxvaluedollarcnt)\n",
    "\n",
    "- Split all data into train, validate and test samples\n",
    "\n",
    "All of these changes will be done via the __prep_zillow_data__ function within the __prepare.py__ file deliverable"
   ]
  },
  {
   "cell_type": "markdown",
   "metadata": {},
   "source": [
    "# Explore\n",
    "We will explore our prepped data to identify drivers of property value and relationships between variables.\n",
    "***"
   ]
  },
  {
   "cell_type": "markdown",
   "metadata": {},
   "source": [
    "We begin by creating a heatmap of that includes each of the features we retained from our prep phase:\n",
    "- unit_sq_ft (formerly calculatedfinishedsquarefeet) \n",
    "- bedroom_count (formerly bedroomcnt)                    \n",
    "- bathroom_count (formerly bathroomcnt)\n",
    "- lot_size_sq_ft (formerly lotsizesquarefeet) "
   ]
  },
  {
   "cell_type": "code",
   "execution_count": 4,
   "metadata": {},
   "outputs": [
    {
     "data": {
      "text/plain": [
       "<AxesSubplot:title={'center':'Variable Heatmap'}>"
      ]
     },
     "execution_count": 4,
     "metadata": {},
     "output_type": "execute_result"
    },
    {
     "data": {
      "image/png": "[encoded data removed]",
      "text/plain": [
       "<Figure size 720x648 with 2 Axes>"
      ]
     },
     "metadata": {
      "needs_background": "light"
     },
     "output_type": "display_data"
    }
   ],
   "source": [
    "# creating copy of train DF to avoid altering the original\n",
    "hmap_train = train.copy()\n",
    "\n",
    "# creating scaler object\n",
    "scaler = sklearn.preprocessing.MinMaxScaler()\n",
    "\n",
    "# fitting scaler to train data\n",
    "scaler.fit(hmap_train)\n",
    "\n",
    "# scaling train data and converting to data frame\n",
    "hmap_train = pd.DataFrame(scaler.transform(hmap_train))\n",
    "\n",
    "# renaming columns as they were erased in the DF conversion\n",
    "hmap_train.rename(columns={0: 'unit_sq_feet', 1: 'bedroom_count', 2: 'bathroom_count', 3: 'lot_size_sq_feet', 4: 'tax_dollar_value' }, inplace=True)\n",
    "\n",
    "# plotting heatmap\n",
    "plt.figure(figsize=(10,9))\n",
    "\n",
    "plt.ylim(0, 4)\n",
    "plt.title('Variable Heatmap', fontsize = 25)\n",
    "plt.xlabel('Features', fontsize = 22)\n",
    "plt.ylabel('Features', fontsize = 22)\n",
    "plt.xticks(fontsize = 15, rotation=45)\n",
    "plt.yticks(fontsize = 15, rotation=45)\n",
    "\n",
    "sns.heatmap(hmap_train.corr(), cmap='Blues', annot=True)"
   ]
  },
  {
   "cell_type": "markdown",
   "metadata": {},
   "source": [
    "- Given their strong tones and coefficients when applied to tax_dollar_value, bathroom_count, bedroom_count and unit_sq_ft all appear to be strong drivers of property value.\n",
    "\n",
    "- Unit_sq_ft, bathroom_count, and bedroom_count also show strong correlation with one another. \n",
    "    - This may be becuase larger propertys tend to have more bathrooms and bedrooms while smaller propertys tend to have less.\n",
    "\n",
    "- Given it's weak coloring and low coefficient, lot_size_sq_feet appears to be a weak driver of property value.\n",
    "\n",
    "- We will create hypothesis tests and visualizations to further explore each of these features in more depth."
   ]
  },
  {
   "cell_type": "markdown",
   "metadata": {},
   "source": [
    "## Feature: unit_sq_feet\n",
    "\n",
    "### Initial idea: The value of a property is impacted by how large it is. "
   ]
  },
  {
   "cell_type": "code",
   "execution_count": 5,
   "metadata": {},
   "outputs": [
    {
     "data": {
      "text/plain": [
       "Text(0.5, 0, 'Unit Square Feet')"
      ]
     },
     "execution_count": 5,
     "metadata": {},
     "output_type": "execute_result"
    },
    {
     "data": {
      "image/png": "[encoded data removed]",
      "text/plain": [
       "<Figure size 864x432 with 1 Axes>"
      ]
     },
     "metadata": {},
     "output_type": "display_data"
    }
   ],
   "source": [
    "# creating scatterplot of tax dollar value vs unit sq feet\n",
    "sns.set(rc = {'figure.figsize':(12,6)})\n",
    "sns.set(font_scale = 2)\n",
    "sns.scatterplot(x = 'unit_sq_feet',y = train['tax_dollar_value'] / 1000000, data = train).set_title(\"Property Values Based on Property Size\")\n",
    "plt.ylabel('Tax Value (Millions)')\n",
    "plt.xlabel('Unit Square Feet')"
   ]
  },
  {
   "cell_type": "markdown",
   "metadata": {},
   "source": [
    "- The value of a property appears to increase as the size of the property increases.\n",
    "- We will perform a hypothesis test (Pearson Correlation) to confirm if there is a linear relationship between these values."
   ]
  },
  {
   "cell_type": "markdown",
   "metadata": {},
   "source": [
    "### Test: Pearson Correlation"
   ]
  },
  {
   "cell_type": "markdown",
   "metadata": {},
   "source": [
    "#### Hypothesis:\n",
    "H0: There is no linear relationship between calculated finished square feet and home value.\n",
    "\n",
    "Ha: There is a linear relationship between calculated finished square feet and home value."
   ]
  },
  {
   "cell_type": "code",
   "execution_count": 6,
   "metadata": {},
   "outputs": [
    {
     "name": "stdout",
     "output_type": "stream",
     "text": [
      "alpha = .05\n",
      "\n",
      "r = 0.59134\n",
      "p = 0.000\n"
     ]
    }
   ],
   "source": [
    "# declaring variables to test for correlation on\n",
    "x = X_train['unit_sq_feet']\n",
    "y = y_train['tax_dollar_value']\n",
    "\n",
    "# performing pearson correlation test\n",
    "r, p = stats.pearsonr(x, y)\n",
    "\n",
    "# printing results\n",
    "print(f'alpha = .05\\n')\n",
    "print(f'r = {r:.5f}')\n",
    "print(f'p = {p:.3f}')"
   ]
  },
  {
   "cell_type": "markdown",
   "metadata": {},
   "source": [
    "- Since p is less than alpha, we reject our null hypothesis that there is no linear relationship between calculated finished square feet and home value\n",
    "\n",
    "- Given the high value of r, we infer that there is a strong relationship between finished square feet and home value\n",
    "\n",
    "- In other words, there is evidence that the size of a property has an impact on the property's value."
   ]
  },
  {
   "cell_type": "markdown",
   "metadata": {},
   "source": [
    "## Feature: lot_size_sq_feet\n",
    "\n",
    "### Initial idea: The value of a property is impacted by the size of the lot it is located on. "
   ]
  },
  {
   "cell_type": "code",
   "execution_count": 7,
   "metadata": {},
   "outputs": [
    {
     "data": {
      "text/plain": [
       "Text(0.5, 0, 'Lot Size Square Feet (Thousands)')"
      ]
     },
     "execution_count": 7,
     "metadata": {},
     "output_type": "execute_result"
    },
    {
     "data": {
      "image/png": "[encoded data removed]",
      "text/plain": [
       "<Figure size 864x432 with 1 Axes>"
      ]
     },
     "metadata": {},
     "output_type": "display_data"
    }
   ],
   "source": [
    "# creating scatterplot of lot size sq ft vs tax dollar value\n",
    "sns.set(font_scale = 2)\n",
    "plt.rc('xtick',labelsize = 18)\n",
    "sns.scatterplot(x = train['lot_size_sq_feet'] / 1000,y = train['tax_dollar_value'] / 1000000, data = train).set_title('Property Values Based on Lot Size', fontsize = 25)\n",
    "plt.ylabel('Tax Dollar Value (Millions)')\n",
    "plt.xlabel('Lot Size Square Feet (Thousands)')"
   ]
  },
  {
   "cell_type": "markdown",
   "metadata": {},
   "source": [
    "- Most high value properties appear to have small lot sizes\n",
    "    - Perhaps many of the high value properties have small lots but are very tall, thus allowing them to have high square footage with a small lot size\n",
    "- We will perform a hypothesis test (Pearson Correlation) to confirm if there is a linear relationship between these lot size and property value."
   ]
  },
  {
   "cell_type": "markdown",
   "metadata": {},
   "source": [
    "### Test: Pearson Correlation"
   ]
  },
  {
   "cell_type": "markdown",
   "metadata": {},
   "source": [
    "#### Hypothesis:\n",
    "H0: There is no linear relationship between lot size and home value.\n",
    "\n",
    "Ha: There is a linear relationship between lot size and home value."
   ]
  },
  {
   "cell_type": "code",
   "execution_count": 8,
   "metadata": {},
   "outputs": [
    {
     "name": "stdout",
     "output_type": "stream",
     "text": [
      "alpha = .05\n",
      "\n",
      "r = -0.03342\n",
      "p = 0.004\n"
     ]
    }
   ],
   "source": [
    "# declaring variables to test for correlation on\n",
    "x = X_train['lot_size_sq_feet']\n",
    "y = y_train['tax_dollar_value']\n",
    "\n",
    "# performing pearson correlation test\n",
    "r, p = stats.pearsonr(x, y)\n",
    "\n",
    "# printing results\n",
    "print(f'alpha = .05\\n')\n",
    "print(f'r = {r:.5f}')\n",
    "print(f'p = {p:.3f}')"
   ]
  },
  {
   "cell_type": "markdown",
   "metadata": {},
   "source": [
    "- Since p is less than alpha, we reject our null hypothesis that there is no linear correlation between bathroom count and home value.\n",
    "\n",
    "- Due to the r value being so close to 0, we infer that the relationship is virtually non-existent"
   ]
  },
  {
   "cell_type": "markdown",
   "metadata": {},
   "source": [
    "## Feature: bathroom_count \n",
    "\n",
    "### Initial idea: The value of a unit will increase if it has more than the average number of bathrooms. "
   ]
  },
  {
   "cell_type": "code",
   "execution_count": 9,
   "metadata": {},
   "outputs": [
    {
     "data": {
      "text/plain": [
       "Text(0.5, 0, 'Bathroom Count')"
      ]
     },
     "execution_count": 9,
     "metadata": {},
     "output_type": "execute_result"
    },
    {
     "data": {
      "image/png": "[encoded data removed]",
      "text/plain": [
       "<Figure size 864x648 with 1 Axes>"
      ]
     },
     "metadata": {},
     "output_type": "display_data"
    }
   ],
   "source": [
    "# creating barplot of bathroom count vs tax dollar value\n",
    "plt.figure(figsize=(12,9))\n",
    "sns.barplot(x = 'bathroom_count',y = train['tax_dollar_value'] / 1000000, data = train, ci = None, palette = ('muted')).set_title(\"Avg. Property Values Among Bathroom Counts\")\n",
    "sns.set(font_scale = 2)\n",
    "plt.ylabel('Avg. Tax Dollar Value (Millions)')\n",
    "plt.xlabel('Bathroom Count')"
   ]
  },
  {
   "cell_type": "markdown",
   "metadata": {},
   "source": [
    "- Generally, property value appears to increase as the the number of bathrooms increase\n",
    "- We will calculate the average number of bathrooms per property and then formulate a hypothesis using this data."
   ]
  },
  {
   "cell_type": "markdown",
   "metadata": {},
   "source": [
    "### Test: T-Test"
   ]
  },
  {
   "cell_type": "code",
   "execution_count": 10,
   "metadata": {},
   "outputs": [
    {
     "name": "stdout",
     "output_type": "stream",
     "text": [
      "The average number of bathrooms in a property is 2.\n",
      "\n",
      "We will formulate our hypothesis on the grounds that a property has more than the average number of bathrooms if it has 3 or more.\n"
     ]
    }
   ],
   "source": [
    "# calculating average number of bathrooms per property\n",
    "avg_bathroom_count = round((train.bathroom_count).mean())\n",
    "\n",
    "print(f'The average number of bathrooms in a property is {avg_bathroom_count}.\\n')\n",
    "print(f'We will formulate our hypothesis on the grounds that a property has more than the average number of bathrooms if it has 3 or more.')"
   ]
  },
  {
   "cell_type": "markdown",
   "metadata": {},
   "source": [
    "#### Hypothesis:\n",
    "H0: The value of units with 3 or more bathrooms is equal to or less than the value of units with 2 or less bathrooms\n",
    "\n",
    "Ha: The value of units with 3 or more bathrooms is greater than the value of units with 2 or less bathrooms."
   ]
  },
  {
   "cell_type": "code",
   "execution_count": 11,
   "metadata": {},
   "outputs": [
    {
     "name": "stdout",
     "output_type": "stream",
     "text": [
      "alpha = .05\n",
      "\n",
      "t = 25.07040\n",
      "p = 2.0955693980555035e-133\n"
     ]
    }
   ],
   "source": [
    "# x1 = df of data for propertiess with 3 or more bathrooms\n",
    "# x2 = df of data for properties with 2 or less bathrooms\n",
    "x1 = train[train.bathroom_count > 2].tax_dollar_value\n",
    "x2 = train[train.bathroom_count <= 2].tax_dollar_value\n",
    "\n",
    "# performing t-test\n",
    "t, p = stats.ttest_ind(x1, x2)\n",
    "\n",
    "# printing results\n",
    "print(f'alpha = .05\\n')\n",
    "print(f't = {t:.5f}')\n",
    "print (f'p = {p / 2}')"
   ]
  },
  {
   "cell_type": "markdown",
   "metadata": {},
   "source": [
    "- Since p is less than alpha and t is greater than 0 (and this is a \"greater than\" test), we reject our null hypothesis that the value of units with 3 or more bathrooms is equal to or less than the value of units with 2 or less bathrooms.\n",
    "\n",
    "- In other words, there is evidence that bathroom_count is a positive driver of property value."
   ]
  },
  {
   "cell_type": "markdown",
   "metadata": {},
   "source": [
    "## Feature: bedroom_count\n",
    "\n",
    "### Initial idea: The value of a unit will increase if it has more than the average number of bedrooms. "
   ]
  },
  {
   "cell_type": "code",
   "execution_count": 12,
   "metadata": {},
   "outputs": [
    {
     "data": {
      "text/html": [
       "<div>\n",
       "<style scoped>\n",
       "    .dataframe tbody tr th:only-of-type {\n",
       "        vertical-align: middle;\n",
       "    }\n",
       "\n",
       "    .dataframe tbody tr th {\n",
       "        vertical-align: top;\n",
       "    }\n",
       "\n",
       "    .dataframe thead th {\n",
       "        text-align: right;\n",
       "    }\n",
       "</style>\n",
       "<table border=\"1\" class=\"dataframe\">\n",
       "  <thead>\n",
       "    <tr style=\"text-align: right;\">\n",
       "      <th></th>\n",
       "      <th>unit_sq_feet</th>\n",
       "      <th>bedroom_count</th>\n",
       "      <th>bathroom_count</th>\n",
       "      <th>lot_size_sq_feet</th>\n",
       "      <th>tax_dollar_value</th>\n",
       "    </tr>\n",
       "  </thead>\n",
       "  <tbody>\n",
       "    <tr>\n",
       "      <th>3040</th>\n",
       "      <td>8790.0</td>\n",
       "      <td>7.0</td>\n",
       "      <td>5.0</td>\n",
       "      <td>48497.0</td>\n",
       "      <td>23858374.0</td>\n",
       "    </tr>\n",
       "  </tbody>\n",
       "</table>\n",
       "</div>"
      ],
      "text/plain": [
       "      unit_sq_feet  bedroom_count  bathroom_count  lot_size_sq_feet  \\\n",
       "3040        8790.0            7.0             5.0           48497.0   \n",
       "\n",
       "      tax_dollar_value  \n",
       "3040        23858374.0  "
      ]
     },
     "execution_count": 12,
     "metadata": {},
     "output_type": "execute_result"
    }
   ],
   "source": [
    "train[train.tax_dollar_value == train.tax_dollar_value.max()]"
   ]
  },
  {
   "cell_type": "code",
   "execution_count": 13,
   "metadata": {},
   "outputs": [
    {
     "data": {
      "text/plain": [
       "3991988.4"
      ]
     },
     "execution_count": 13,
     "metadata": {},
     "output_type": "execute_result"
    }
   ],
   "source": [
    "train[train.bedroom_count == 7]['tax_dollar_value'].mean()"
   ]
  },
  {
   "cell_type": "code",
   "execution_count": 14,
   "metadata": {},
   "outputs": [
    {
     "data": {
      "text/plain": [
       "Text(0.5, 0, 'Bedroom Count')"
      ]
     },
     "execution_count": 14,
     "metadata": {},
     "output_type": "execute_result"
    },
    {
     "data": {
      "image/png": "[encoded data removed]",
      "text/plain": [
       "<Figure size 864x648 with 1 Axes>"
      ]
     },
     "metadata": {},
     "output_type": "display_data"
    }
   ],
   "source": [
    "# creating a barplot of bedroom count vs tax dollar value\n",
    "plt.figure(figsize=(12,9))\n",
    "sns.barplot(x='bedroom_count', y=train['tax_dollar_value'] / 1000000, data=train, ci=None).set_title(\"Avg. Property Values Among Bedroom Counts\")\n",
    "sns.set(font_scale = 2)\n",
    "plt.ylabel('Avg. Tax Dollar Value (Millions)')\n",
    "plt.xlabel('Bedroom Count')"
   ]
  },
  {
   "cell_type": "markdown",
   "metadata": {},
   "source": [
    "- Generally, property value appears to increase as the the number of bedrooms increase\n",
    "- We will calculate the average number of bedrooms per property and then formulate a hypothesis using this data."
   ]
  },
  {
   "cell_type": "markdown",
   "metadata": {},
   "source": [
    "### Test: T-Test"
   ]
  },
  {
   "cell_type": "code",
   "execution_count": 15,
   "metadata": {},
   "outputs": [
    {
     "name": "stdout",
     "output_type": "stream",
     "text": [
      "The average number of bedrooms in a property is 3.\n",
      "\n",
      "We will formulate our hypothesis on the grounds that a property has more than the average number of bedrooms if it has 4 or more.\n"
     ]
    }
   ],
   "source": [
    "# calculating average number of bedrooms per property\n",
    "avg_bedroom_count = round((train.bedroom_count).mean())\n",
    "\n",
    "print(f'The average number of bedrooms in a property is {avg_bedroom_count}.\\n')\n",
    "print(f'We will formulate our hypothesis on the grounds that a property has more than the average number of bedrooms if it has 4 or more.')"
   ]
  },
  {
   "cell_type": "markdown",
   "metadata": {},
   "source": [
    "#### Hypothesis:\n",
    "\n",
    "H0: The value of units with 4 or more bedrooms is equal to or less than the value of units with 3 or less bedrooms. \n",
    "\n",
    "Ha: The value of units with 4 or more bedrooms is greater than the value of units with less 3 or less bedrooms."
   ]
  },
  {
   "cell_type": "code",
   "execution_count": 16,
   "metadata": {},
   "outputs": [
    {
     "name": "stdout",
     "output_type": "stream",
     "text": [
      "alpha = .05\n",
      "\n",
      "t = 18.79625\n",
      "p = 2.662792020085644e-77\n"
     ]
    }
   ],
   "source": [
    "# x1 = df of data for propertys with 4 or more bedrooms\n",
    "# x2 = df of data for propertys with 2 or less bedrooms\n",
    "x1 = train[train.bedroom_count > 3].tax_dollar_value\n",
    "x2 = train[train.bedroom_count <= 3].tax_dollar_value\n",
    "\n",
    "# performing ttest\n",
    "t, p = stats.ttest_ind(x1, x2)\n",
    "\n",
    "# printing results\n",
    "print(f'alpha = .05\\n')\n",
    "print(f't = {t:.5f}')\n",
    "print (f'p = {p / 2}')"
   ]
  },
  {
   "cell_type": "markdown",
   "metadata": {},
   "source": [
    "- Since p is less than alpha and t is greater than 0, we reject our null hypothesis that the value of units with 3 or more bedrooms is equal to or less than the value of units with 2 or less bedrooms.\n",
    "\n",
    "- In other words, there is evidence that bedroom_count is a positive driver of property value."
   ]
  },
  {
   "cell_type": "markdown",
   "metadata": {},
   "source": [
    "### Exploration Takeaways\n",
    "\n",
    "- Heatmap of all features shows the following features are strongly correlated with property value:\n",
    "    - bathroom_count\n",
    "    - bedroom_count\n",
    "    - unit_sq_ft\n",
    "    \n",
    "    \n",
    "- Although lot_size_sq_ft, may not have as strong of a correlation with property value, we will still create a model with it to observe its effectiveness as a predictive feature.\n",
    "\n",
    "\n",
    "- T-Tests suggest that having more than the average number of bathrooms or bedrooms in a property increases its value\n",
    "\n",
    "\n",
    "- Pearson Correlation tests suggest that the size of a property and the size of the lot it's located on have an impact on its value"
   ]
  },
  {
   "cell_type": "markdown",
   "metadata": {},
   "source": [
    "# Modeling\n",
    "We use these variables that we believe strongly correlate with churn to create a model that will allow us to predict churn\n",
    "***"
   ]
  },
  {
   "cell_type": "markdown",
   "metadata": {},
   "source": [
    "## Baseline\n",
    "We'll now construct a baseline and gauge its accuracy to determine what accuracy an alternate model would need in order to be viable."
   ]
  },
  {
   "cell_type": "code",
   "execution_count": 17,
   "metadata": {},
   "outputs": [
    {
     "data": {
      "text/html": [
       "<div>\n",
       "<style scoped>\n",
       "    .dataframe tbody tr th:only-of-type {\n",
       "        vertical-align: middle;\n",
       "    }\n",
       "\n",
       "    .dataframe tbody tr th {\n",
       "        vertical-align: top;\n",
       "    }\n",
       "\n",
       "    .dataframe thead th {\n",
       "        text-align: right;\n",
       "    }\n",
       "</style>\n",
       "<table border=\"1\" class=\"dataframe\">\n",
       "  <thead>\n",
       "    <tr style=\"text-align: right;\">\n",
       "      <th></th>\n",
       "      <th>tax_dollar_value</th>\n",
       "      <th>baseline_prediction</th>\n",
       "    </tr>\n",
       "  </thead>\n",
       "  <tbody>\n",
       "    <tr>\n",
       "      <th>6531</th>\n",
       "      <td>209099.0</td>\n",
       "      <td>475181.64038</td>\n",
       "    </tr>\n",
       "    <tr>\n",
       "      <th>6057</th>\n",
       "      <td>271949.0</td>\n",
       "      <td>475181.64038</td>\n",
       "    </tr>\n",
       "    <tr>\n",
       "      <th>2580</th>\n",
       "      <td>250933.0</td>\n",
       "      <td>475181.64038</td>\n",
       "    </tr>\n",
       "    <tr>\n",
       "      <th>5490</th>\n",
       "      <td>236264.0</td>\n",
       "      <td>475181.64038</td>\n",
       "    </tr>\n",
       "    <tr>\n",
       "      <th>1229</th>\n",
       "      <td>818000.0</td>\n",
       "      <td>475181.64038</td>\n",
       "    </tr>\n",
       "  </tbody>\n",
       "</table>\n",
       "</div>"
      ],
      "text/plain": [
       "      tax_dollar_value  baseline_prediction\n",
       "6531          209099.0         475181.64038\n",
       "6057          271949.0         475181.64038\n",
       "2580          250933.0         475181.64038\n",
       "5490          236264.0         475181.64038\n",
       "1229          818000.0         475181.64038"
      ]
     },
     "execution_count": 17,
     "metadata": {},
     "output_type": "execute_result"
    }
   ],
   "source": [
    "# making a copy of train data so we can add a baseline column without changing original train DF\n",
    "y_train_bl = y_train.copy()\n",
    "\n",
    "# adding baseline_prediction column that holds the mean of property tax values\n",
    "y_train_bl['baseline_prediction'] = y_train['tax_dollar_value'].mean()\n",
    "\n",
    "y_train_bl.head()"
   ]
  },
  {
   "cell_type": "code",
   "execution_count": 33,
   "metadata": {},
   "outputs": [
    {
     "name": "stdout",
     "output_type": "stream",
     "text": [
      "Baseline Root mean squared error:  698688\n"
     ]
    }
   ],
   "source": [
    "RMSE_bl = np.sqrt(mean_squared_error(y_train.tax_dollar_value, y_train_bl.baseline_prediction))\n",
    "\n",
    "print(\"Baseline Root mean squared error: \", round((RMSE_bl)))"
   ]
  },
  {
   "cell_type": "markdown",
   "metadata": {},
   "source": [
    "- Our baseline's RMSE value is 698,688. We'll need to construct at least one model that can attain a RMSE value lower than this."
   ]
  },
  {
   "cell_type": "markdown",
   "metadata": {},
   "source": [
    "## Feature Selection\n",
    "We'll be using Recursive Feature Elimination to rank each of our features in terms of their viability in predicting property value."
   ]
  },
  {
   "cell_type": "code",
   "execution_count": 19,
   "metadata": {},
   "outputs": [
    {
     "data": {
      "text/html": [
       "<div>\n",
       "<style scoped>\n",
       "    .dataframe tbody tr th:only-of-type {\n",
       "        vertical-align: middle;\n",
       "    }\n",
       "\n",
       "    .dataframe tbody tr th {\n",
       "        vertical-align: top;\n",
       "    }\n",
       "\n",
       "    .dataframe thead th {\n",
       "        text-align: right;\n",
       "    }\n",
       "</style>\n",
       "<table border=\"1\" class=\"dataframe\">\n",
       "  <thead>\n",
       "    <tr style=\"text-align: right;\">\n",
       "      <th></th>\n",
       "      <th>Var</th>\n",
       "      <th>Rank</th>\n",
       "    </tr>\n",
       "  </thead>\n",
       "  <tbody>\n",
       "    <tr>\n",
       "      <th>2</th>\n",
       "      <td>bathroom_count</td>\n",
       "      <td>1</td>\n",
       "    </tr>\n",
       "    <tr>\n",
       "      <th>1</th>\n",
       "      <td>bedroom_count</td>\n",
       "      <td>2</td>\n",
       "    </tr>\n",
       "    <tr>\n",
       "      <th>0</th>\n",
       "      <td>unit_sq_feet</td>\n",
       "      <td>3</td>\n",
       "    </tr>\n",
       "    <tr>\n",
       "      <th>3</th>\n",
       "      <td>lot_size_sq_feet</td>\n",
       "      <td>4</td>\n",
       "    </tr>\n",
       "  </tbody>\n",
       "</table>\n",
       "</div>"
      ],
      "text/plain": [
       "                Var  Rank\n",
       "2    bathroom_count     1\n",
       "1     bedroom_count     2\n",
       "0      unit_sq_feet     3\n",
       "3  lot_size_sq_feet     4"
      ]
     },
     "execution_count": 19,
     "metadata": {},
     "output_type": "execute_result"
    }
   ],
   "source": [
    "# creating linear regression object\n",
    "lm = LinearRegression()\n",
    "\n",
    "# creating RFE object that will use our linear regression object and only pick only the single best feature\n",
    "rfe = RFE(lm, 1)\n",
    "\n",
    "# transforming data using rfe object\n",
    "x_rfe = rfe.fit_transform(X_train, y_train)\n",
    "\n",
    "# fitting our linear regression model to data\n",
    "lm.fit(X_train, y_train)\n",
    "\n",
    "# storing array of boolean values that reflect true if a feature was one of the three selected\n",
    "# false otherwise\n",
    "mask = rfe.support_\n",
    "\n",
    "# creating list of the top feature using boolean mask\n",
    "rfe_features = X_train.loc[:,mask].columns.tolist()\n",
    "\n",
    "# creating array of ranking list\n",
    "var_ranks = rfe.ranking_\n",
    "\n",
    "# creating list of feature names\n",
    "var_names = X_train_scaled.columns.tolist()\n",
    "\n",
    "# combine ranks and names into a df\n",
    "rfe_ranks_df = pd.DataFrame({'Var': var_names, 'Rank': var_ranks})\n",
    "\n",
    "# sort the df by rank\n",
    "rfe_ranks_df.sort_values('Rank')"
   ]
  },
  {
   "cell_type": "markdown",
   "metadata": {},
   "source": [
    "- RFE shows that bathroom_count is the most useful feature for predicting property value.\n",
    "- bedroom_count is second\n",
    "- unit_sq_feet is third\n",
    "- lot_size_sq_feet is last"
   ]
  },
  {
   "cell_type": "markdown",
   "metadata": {},
   "source": [
    "## Train"
   ]
  },
  {
   "cell_type": "markdown",
   "metadata": {},
   "source": [
    "### Name: Model 1 (Train)\n",
    "\n",
    "Type: Linear Regression Model\n",
    "\n",
    "Features:\n",
    "- bathroom_count\n",
    "- bedroom_count\n",
    "- unit_sq_feet\n",
    "- lot_size_sq_feet\n",
    "\n",
    "Detail: None"
   ]
  },
  {
   "cell_type": "code",
   "execution_count": 20,
   "metadata": {},
   "outputs": [
    {
     "name": "stdout",
     "output_type": "stream",
     "text": [
      "Model 1s RMSE value when predicting property values on the train data set is 551421\n"
     ]
    }
   ],
   "source": [
    "# copying df to avoid changing original when we add predictions column\n",
    "y_train_m1 = y_train.copy()\n",
    "\n",
    "# creating linear regression object\n",
    "lm_1 = LinearRegression()\n",
    "\n",
    "# fitting model to data\n",
    "lm_1.fit(X_train_scaled, y_train_m1)\n",
    "\n",
    "# adding column to model 1 train that holds model 1 predictions of property value\n",
    "y_train_m1['model_1_prediction'] = lm_1.predict(X_train_scaled)\n",
    "\n",
    "# calculating RMSE value of model 1 on train data\n",
    "RMSE_lm_m1 = round(np.sqrt(mean_squared_error(y_train.tax_dollar_value, y_train_m1.model_1_prediction)))\n",
    "\n",
    "# printing results\n",
    "print(f'Model 1s RMSE value when predicting property values on the train data set is {RMSE_lm_m1}')"
   ]
  },
  {
   "cell_type": "markdown",
   "metadata": {},
   "source": [
    "### Name: Model 2  (Train)\n",
    "\n",
    "Type: Linear Regression Model\n",
    "\n",
    "Features:\n",
    "- bathroom_count\n",
    "- bedroom_count\n",
    "- unit_sq_feet\n",
    "\n",
    "Detail: Removing least most important feature according to RFE ranking (lot_size_sq_feet)"
   ]
  },
  {
   "cell_type": "code",
   "execution_count": 21,
   "metadata": {},
   "outputs": [
    {
     "name": "stdout",
     "output_type": "stream",
     "text": [
      "Model 2s RMSE value when predicting property values on the train data set is 551490\n"
     ]
    }
   ],
   "source": [
    "# copying df to avoid changing original when we add predictions column\n",
    "y_train_m2 = y_train.copy()\n",
    "\n",
    "# creating linear regression object\n",
    "lm_2 = LinearRegression()\n",
    "\n",
    "# fitting model to data\n",
    "lm_2.fit(X_train_scaled[['bathroom_count', 'bedroom_count', 'unit_sq_feet']], y_train_m2)\n",
    "\n",
    "# adding column to model 2 train that holds model 2 predictions of property value\n",
    "y_train_m2['model_2_prediction'] = lm_2.predict(X_train_scaled[['bathroom_count', 'bedroom_count', 'unit_sq_feet']])\n",
    "\n",
    "# calculating RMSE value of model 2 on train data\n",
    "RMSE_lm_m2 = round(np.sqrt(mean_squared_error(y_train.tax_dollar_value, y_train_m2.model_2_prediction)))\n",
    "\n",
    "# printing results\n",
    "print(f'Model 2s RMSE value when predicting property values on the train data set is {RMSE_lm_m2}')"
   ]
  },
  {
   "cell_type": "markdown",
   "metadata": {},
   "source": [
    "### Name: Model 3  (Train)\n",
    "\n",
    "Type: Linear Regression Model\n",
    "\n",
    "Features:\n",
    "- bathroom_count\n",
    "- bedroom_count\n",
    "\n",
    "Detail: Removing 2 least most important features according to RFE ranking (lot_size_sq_feet and unit_sq_feet)"
   ]
  },
  {
   "cell_type": "code",
   "execution_count": 22,
   "metadata": {},
   "outputs": [
    {
     "name": "stdout",
     "output_type": "stream",
     "text": [
      "Model 3s RMSE value when predicting property values on the train data set is 622158\n"
     ]
    }
   ],
   "source": [
    "# copying df to avoid changing original when we add predictions column\n",
    "y_train_m3 = y_train.copy()\n",
    "\n",
    "# creating linear regression object\n",
    "lm_3 = LinearRegression()\n",
    "\n",
    "# fitting model to data\n",
    "lm_3.fit(X_train_scaled[['bathroom_count', 'bedroom_count']], y_train_m3)\n",
    "\n",
    "# adding column to model 3 train that holds model 3 predictions of property value\n",
    "y_train_m3['model_3_prediction'] = lm_3.predict(X_train_scaled[['bathroom_count', 'bedroom_count']])\n",
    "\n",
    "# calculating RMSE value of model 3 on train data\n",
    "RMSE_lm_m3 = round(np.sqrt(mean_squared_error(y_train.tax_dollar_value, y_train_m3.model_3_prediction)))\n",
    "\n",
    "# printing results\n",
    "print(f'Model 3s RMSE value when predicting property values on the train data set is {RMSE_lm_m3}')"
   ]
  },
  {
   "cell_type": "markdown",
   "metadata": {},
   "source": [
    "### Name: Model 4  (Train)\n",
    "\n",
    "Type: Linear Regression Model\n",
    "\n",
    "Features:\n",
    "- bathroom_count\n",
    "\n",
    "Detail: Removing 3 least most important features according to RFE ranking (lot_size_sq_feet, unit_sq_feet, and bedroom_count)"
   ]
  },
  {
   "cell_type": "code",
   "execution_count": 23,
   "metadata": {},
   "outputs": [
    {
     "name": "stdout",
     "output_type": "stream",
     "text": [
      "Model 4s RMSE value when predicting property values on the train data set is 622171\n"
     ]
    }
   ],
   "source": [
    "# copying df to avoid changing original when we add predictions column\n",
    "y_train_m4 = y_train.copy()\n",
    "\n",
    "# creating linear regression object\n",
    "lm_4 = LinearRegression()\n",
    "\n",
    "# fitting model to data\n",
    "lm_4.fit(X_train_scaled[['bathroom_count']], y_train_m4)\n",
    "\n",
    "# adding column to model 4 train that holds model 3 predictions of property value\n",
    "y_train_m4['model_4_prediction'] = lm_4.predict(X_train_scaled[['bathroom_count']])\n",
    "\n",
    "# calculating RMSE value of model 4 on train data\n",
    "RMSE_lm_m4 = round(np.sqrt(mean_squared_error(y_train.tax_dollar_value, y_train_m4.model_4_prediction)))\n",
    "\n",
    "# printing results\n",
    "print(f'Model 4s RMSE value when predicting property values on the train data set is {RMSE_lm_m4}')"
   ]
  },
  {
   "cell_type": "markdown",
   "metadata": {},
   "source": [
    "- Baseline RMSE: 698688\n",
    "\n",
    "- Model 1 RMSE: 551421\n",
    "\n",
    "- Model 2 RMSE: 551490\n",
    "\n",
    "- Model 3 RMSE: 622158\n",
    "\n",
    "- Model 4 RMSE: 622171\n",
    "\n",
    "- Models 1 and 2 had the best (lowest) RMSE values so we'll be using them to predict values in the validate sample."
   ]
  },
  {
   "cell_type": "markdown",
   "metadata": {},
   "source": [
    "## Validation\n",
    "__Hyperparameter Tuning: The default hyperparameters for these models (default set by not listing any), produced the lowest RMSE values so no changes will be made to the hyperparamter settings of the models.__"
   ]
  },
  {
   "cell_type": "markdown",
   "metadata": {},
   "source": [
    "### Model 1 (Validation)"
   ]
  },
  {
   "cell_type": "code",
   "execution_count": 24,
   "metadata": {},
   "outputs": [
    {
     "name": "stdout",
     "output_type": "stream",
     "text": [
      "Model 1s RMSE value when predicting property values on the train data set is 674204\n"
     ]
    }
   ],
   "source": [
    "# creating copy of y_validate DF to avoid altering the original when we add our predictions column\n",
    "y_validate_m1 = y_validate.copy()\n",
    "\n",
    "# adding column to model 1 train that holds model 1 predictions of property value\n",
    "y_validate_m1['model_1_prediction'] = lm_1.predict(X_validate_scaled)\n",
    "\n",
    "# calculating RMSE value of model 1 on validate data\n",
    "RMSE_lm_m1_val = round(np.sqrt(mean_squared_error(y_validate.tax_dollar_value, y_validate_m1.model_1_prediction)))\n",
    "\n",
    "# printing results\n",
    "print(f'Model 1s RMSE value when predicting property values on the train data set is {RMSE_lm_m1_val}')"
   ]
  },
  {
   "cell_type": "markdown",
   "metadata": {},
   "source": [
    "### Model 2 (Validation)"
   ]
  },
  {
   "cell_type": "code",
   "execution_count": 25,
   "metadata": {},
   "outputs": [
    {
     "name": "stdout",
     "output_type": "stream",
     "text": [
      "Model 2s RMSE value when predicting property values on the train data set is 674829\n"
     ]
    }
   ],
   "source": [
    "# creating copy of y_validate DF to avoid altering the original when we add our predictions column\n",
    "y_validate_m2 = y_validate.copy()\n",
    "\n",
    "# adding column to model 2 train that holds model 2 predictions of property value\n",
    "y_validate_m2['model_2_prediction'] = lm_2.predict(X_validate_scaled[['bathroom_count', 'bedroom_count', 'unit_sq_feet']])\n",
    "\n",
    "# calculating RMSE value of model 2 on validate data\n",
    "RMSE_lm_m2_val = round(np.sqrt(mean_squared_error(y_validate.tax_dollar_value, y_validate_m2.model_2_prediction)))\n",
    "\n",
    "# printing results\n",
    "print(f'Model 2s RMSE value when predicting property values on the train data set is {RMSE_lm_m2_val}')"
   ]
  },
  {
   "cell_type": "markdown",
   "metadata": {},
   "source": [
    "- Model 1 RMSE: 674204\n",
    "\n",
    "- Model 2 RMSE: 674829\n",
    "\n",
    "- Models 1 had the best (lowest) RMSE value so we will be using it to predict values in the test sample."
   ]
  },
  {
   "cell_type": "markdown",
   "metadata": {},
   "source": [
    "## Test"
   ]
  },
  {
   "cell_type": "markdown",
   "metadata": {},
   "source": [
    "### Model 1 (Test)"
   ]
  },
  {
   "cell_type": "code",
   "execution_count": 26,
   "metadata": {},
   "outputs": [
    {
     "name": "stdout",
     "output_type": "stream",
     "text": [
      "Model 1s RMSE value when predicting property values on the train data set is 558304\n"
     ]
    }
   ],
   "source": [
    "# creating copy of y_test DF to avoid altering the original when we add our predictions column\n",
    "y_test_m1 = y_test.copy()\n",
    "\n",
    "# adding column to model 1 train that holds model 1 predictions of property value\n",
    "y_test_m1['model_1_prediction'] = lm_1.predict(X_test_scaled)\n",
    "\n",
    "# calculating RMSE value of model 1 on validate data\n",
    "RMSE_lm_m1_test = round(np.sqrt(mean_squared_error(y_test.tax_dollar_value, y_test_m1.model_1_prediction)))\n",
    "\n",
    "# printing results\n",
    "print(f'Model 1s RMSE value when predicting property values on the train data set is {RMSE_lm_m1_test}')"
   ]
  },
  {
   "cell_type": "markdown",
   "metadata": {},
   "source": [
    "- Model 1 RMSE value (Train): 551421\n",
    "- Model 1 RMSE value (Validate): 674204\n",
    "- Model 1 RMSE value (Test): 558304"
   ]
  },
  {
   "cell_type": "markdown",
   "metadata": {},
   "source": [
    "## Modeling Takeaways   \n",
    "- Model 1's performance (RMSE value) on the test data set was much better than its performance on the validation data set and very close to its performance on the train data set.\n",
    "\n",
    "\n",
    "- Since Model 1's performance on all 3 datasets is superior to the baseline's performance, it is safe to say that that model 1 should be used instead of the baseline to predict property values.\n",
    "\n",
    "\n",
    "- Model 1 used all 4 of our features from our exploration phase and performed better than any model that used less features. \n",
    "    - This is further evidence that each of those features (bathroom_count, bedroom_count, unit_sq_feet, lot_size_sq_feet) are drivers of property value."
   ]
  },
  {
   "cell_type": "markdown",
   "metadata": {},
   "source": [
    "# Overall Conclusion and Takeaways"
   ]
  },
  {
   "cell_type": "markdown",
   "metadata": {},
   "source": [
    "- Through exploration we discovered that drivers of property value include bathroom_count, bedroom_count, unit_sq_feet, and lot_size_sq_feet\n",
    "    \n",
    "- Based on the results of a pearson correlation test, lot_size_sq_feet was thought to have virtually no relationship with property_value, our models performed worse without it\n",
    "\n",
    "Recursive Feature Elimination ranked the importance of each feature in predicting value as follows:\n",
    "\n",
    "- 1 - bathroom_count\n",
    "- 2 - bedroom_count\n",
    "- 3 - unit_sq_feet\n",
    "- 4 - lot_size_sq_feet\n",
    "\n",
    "Recommendations\n",
    "- When assessing the value of properties, we should focus our attention on these drivers to help improve the accuracy of our value assessments.\n",
    "- We should also display these features more prominently in our search result thumbnails as currently the font is relatively small.\n",
    "\n",
    "We've created a linear regression model that uses these variables to predict property values.\n",
    "- The model outperformed a baseline model that constantly predicts the mean value of homes\n",
    "- The model's RMSE value on all data sets was consistently lower than all of its competitors \n",
    "- In one instance, the model only performed nearly as well on data it had never seen before (test) than it did on the data it was trained on (train). \n",
    "\n",
    "In the future\n",
    "- We'd like to collect a wider range of data since many of the features in our dataset contained a high amount of null values and had to be excluded from our project.\n",
    "    - With more features available, we may be able to incorporate new ones that improve our model's ability to make accurate predictions on property values."
   ]
  },
  {
   "cell_type": "code",
   "execution_count": null,
   "metadata": {},
   "outputs": [],
   "source": []
  }
 ],
 "metadata": {
  "kernelspec": {
   "display_name": "Python 3",
   "language": "python",
   "name": "python3"
  },
  "language_info": {
   "codemirror_mode": {
    "name": "ipython",
    "version": 3
   },
   "file_extension": ".py",
   "mimetype": "text/x-python",
   "name": "python",
   "nbconvert_exporter": "python",
   "pygments_lexer": "ipython3",
   "version": "3.7.6"
  }
 },
 "nbformat": 4,
 "nbformat_minor": 4
}
